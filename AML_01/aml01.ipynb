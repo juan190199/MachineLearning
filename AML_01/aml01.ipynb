{
 "cells": [
  {
   "cell_type": "markdown",
   "id": "auburn-sport",
   "metadata": {},
   "source": [
    "## AML 02\n",
    "***"
   ]
  },
  {
   "cell_type": "markdown",
   "id": "romantic-manufacturer",
   "metadata": {},
   "source": [
    "### Data Preparation"
   ]
  },
  {
   "cell_type": "code",
   "execution_count": 1,
   "id": "brown-router",
   "metadata": {},
   "outputs": [],
   "source": [
    "from sklearn.datasets import load_digits\n",
    "from data_preparation import data_preparation\n",
    "\n",
    "import numpy as np"
   ]
  },
  {
   "cell_type": "code",
   "execution_count": 2,
   "id": "funky-spine",
   "metadata": {},
   "outputs": [
    {
     "name": "stdout",
     "output_type": "stream",
     "text": [
      "dict_keys(['data', 'target', 'frame', 'feature_names', 'target_names', 'images', 'DESCR'])\n"
     ]
    }
   ],
   "source": [
    "digits = load_digits()\n",
    "print(digits.keys())"
   ]
  },
  {
   "cell_type": "code",
   "execution_count": 3,
   "id": "simplified-pledge",
   "metadata": {},
   "outputs": [],
   "source": [
    "data = digits['data']\n",
    "images = digits['images']\n",
    "target = ['target']\n",
    "target_names = ['target_names']"
   ]
  },
  {
   "cell_type": "code",
   "execution_count": 4,
   "id": "fresh-tobacco",
   "metadata": {},
   "outputs": [
    {
     "name": "stdout",
     "output_type": "stream",
     "text": [
      "[3, 8]\n"
     ]
    }
   ],
   "source": [
    "data, target = data_preparation(digits, filter=[3, 8])"
   ]
  },
  {
   "cell_type": "code",
   "execution_count": 7,
   "id": "extensive-nicholas",
   "metadata": {},
   "outputs": [
    {
     "data": {
      "text/plain": [
       "(357, 1, 64)"
      ]
     },
     "execution_count": 7,
     "metadata": {},
     "output_type": "execute_result"
    }
   ],
   "source": [
    "data.shape"
   ]
  },
  {
   "cell_type": "code",
   "execution_count": null,
   "id": "laden-arrest",
   "metadata": {},
   "outputs": [],
   "source": []
  }
 ],
 "metadata": {
  "kernelspec": {
   "display_name": "Python 3",
   "language": "python",
   "name": "python3"
  },
  "language_info": {
   "codemirror_mode": {
    "name": "ipython",
    "version": 3
   },
   "file_extension": ".py",
   "mimetype": "text/x-python",
   "name": "python",
   "nbconvert_exporter": "python",
   "pygments_lexer": "ipython3",
   "version": "3.8.2"
  }
 },
 "nbformat": 4,
 "nbformat_minor": 5
}
