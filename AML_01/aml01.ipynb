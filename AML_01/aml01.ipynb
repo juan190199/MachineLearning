{
 "cells": [
  {
   "cell_type": "markdown",
   "id": "coupled-cinema",
   "metadata": {
    "pycharm": {
     "name": "#%% md\n"
    }
   },
   "source": [
    "## AML 01\n",
    "***"
   ]
  },
  {
   "cell_type": "markdown",
   "id": "neutral-approach",
   "metadata": {
    "pycharm": {
     "name": "#%% md\n"
    }
   },
   "source": [
    "### Data Preparation"
   ]
  },
  {
   "cell_type": "code",
   "execution_count": 1,
   "id": "robust-toner",
   "metadata": {
    "pycharm": {
     "name": "#%%\n"
    }
   },
   "outputs": [],
   "source": [
    "from sklearn.datasets import load_digits\n",
    "from data_preparation import data_preparation\n",
    "\n",
    "from sklearn.model_selection import cross_val_score, train_test_split, KFold\n",
    "from sklearn.linear_model import LogisticRegression\n",
    "\n",
    "import numpy as np\n",
    "\n",
    "%load_ext autoreload\n",
    "%autoreload 2"
   ]
  },
  {
   "cell_type": "code",
   "execution_count": 2,
   "id": "orange-player",
   "metadata": {
    "pycharm": {
     "name": "#%%\n"
    }
   },
   "outputs": [
    {
     "name": "stdout",
     "output_type": "stream",
     "text": [
      "dict_keys(['data', 'target', 'frame', 'feature_names', 'target_names', 'images', 'DESCR'])\n"
     ]
    }
   ],
   "source": [
    "digits = load_digits()\n",
    "print(digits.keys())"
   ]
  },
  {
   "cell_type": "code",
   "execution_count": 3,
   "id": "visible-station",
   "metadata": {
    "pycharm": {
     "name": "#%%\n"
    }
   },
   "outputs": [],
   "source": [
    "data = digits['data']\n",
    "images = digits['images']\n",
    "target = ['target']\n",
    "target_names = ['target_names']"
   ]
  },
  {
   "cell_type": "code",
   "execution_count": 4,
   "id": "devoted-offense",
   "metadata": {
    "pycharm": {
     "name": "#%%\n"
    }
   },
   "outputs": [],
   "source": [
    "X, y = data_preparation(digits, filter=[3, 8])"
   ]
  },
  {
   "cell_type": "code",
   "execution_count": 5,
   "id": "logical-brand",
   "metadata": {
    "pycharm": {
     "name": "#%%\n"
    }
   },
   "outputs": [],
   "source": [
    "lambdas = [10 ** i for i in range(-5, 5)]"
   ]
  },
  {
   "cell_type": "code",
   "execution_count": 6,
   "id": "blank-escape",
   "metadata": {
    "pycharm": {
     "name": "#%%\n"
    }
   },
   "outputs": [
    {
     "name": "stdout",
     "output_type": "stream",
     "text": [
      "Lambda\t\t Accuracy\n",
      "=========================\n",
      "1e-05 \t\t 0.94937\n",
      "0.0001 \t\t 0.95227\n",
      "0.001 \t\t 0.94953\n",
      "0.01 \t\t 0.95802\n",
      "0.1 \t\t 0.96365\n",
      "1 \t\t 0.96643\n",
      "10 \t\t 0.96362\n",
      "100 \t\t 0.96084\n",
      "1000 \t\t 0.95802\n",
      "10000 \t\t 0.95802\n"
     ]
    }
   ],
   "source": [
    "accuracies = []\n",
    "print(\"Lambda\\t\\t Accuracy\")\n",
    "print(\"=========================\")\n",
    "for lmbda in lambdas:\n",
    "    LR = LogisticRegression(C=lmbda, solver='liblinear')\n",
    "    accuracy = cross_val_score(LR, X, y, cv=5)\n",
    "    accuracies.append(np.mean(accuracy))\n",
    "    print(\"{} \\t\\t {:.5f}\".format(lmbda, accuracies[-1]))"
   ]
  },
  {
   "cell_type": "code",
   "execution_count": 7,
   "id": "nearby-chicago",
   "metadata": {
    "pycharm": {
     "name": "#%%\n"
    }
   },
   "outputs": [],
   "source": [
    "# Split the data\n",
    "X_train, X_test, y_train, y_test = train_test_split(X, y, test_size=0.33, random_state=101)"
   ]
  },
  {
   "cell_type": "markdown",
   "source": [
    "### Optimization Methods Comparison"
   ],
   "metadata": {
    "collapsed": false,
    "pycharm": {
     "name": "#%% md\n"
    }
   }
  },
  {
   "cell_type": "code",
   "execution_count": null,
   "outputs": [],
   "source": [
    "from utils import zero_one_loss, predict\n",
    "from optimizers import (gradient_descent, stochastic_gradient_descent, stochastic_gradient_minibatch, stochastic_gradient_momentum)\n",
    "\n",
    "for method in [gradient_descent, stochastic_gradient_descent, stochastic_gradient_minibatch, stochastic_gradient_momentum]:\n",
    "    best = 1e5\n",
    "    best_alpha0, best_momentum, best_gamma = 0, 0, 0\n",
    "    for alpha0 in [0.001, 0.01, 0.1]:\n",
    "        for momentum in [0.1, 0.2, 0.5]:\n",
    "            for gamma in [0.0001, 0.001, 0.01]:\n",
    "                w = np.zeros((X.shape[1], 1))\n",
    "                current = 0\n",
    "                kf = KFold(n_splits=10)\n",
    "                for train_idx, val_idx in kf.split(X_train):\n",
    "                    cv_X_train, cv_X_val = X_train[train_idx], X_train[val_idx]\n",
    "                    cv_y_train, cv_y_val = y_train[train_idx], y_train[val_idx]\n",
    "                    w = method(w, cv_X_train, cv_y_train, alpha0=alpha0, momentum=momentum, gamma=gamma)\n",
    "                    current += zero_one_loss(predict(w, cv_X_val), cv_y_val)\n",
    "\n",
    "                current /= 10.\n",
    "                if current < best:\n",
    "                    best = current\n",
    "                    best_alpha0 = alpha0\n",
    "                    best_momentum = momentum\n",
    "                    best_gamma = gamma\n",
    "\n",
    "    print('=' * 20)\n",
    "    print('Method: \\t', method)\n",
    "    print('Parameters:')\n",
    "    print('\\tAlpha: \\t', best_alpha0)\n",
    "    print('\\tMomentum: \\t', best_momentum)\n",
    "    print('\\tGamma: \\t', best_gamma)"
   ],
   "metadata": {
    "collapsed": false,
    "pycharm": {
     "name": "#%%\n"
    }
   }
  }
 ],
 "metadata": {
  "kernelspec": {
   "display_name": "Python 3",
   "language": "python",
   "name": "python3"
  },
  "language_info": {
   "codemirror_mode": {
    "name": "ipython",
    "version": 3
   },
   "file_extension": ".py",
   "mimetype": "text/x-python",
   "name": "python",
   "nbconvert_exporter": "python",
   "pygments_lexer": "ipython3",
   "version": "3.8.2"
  }
 },
 "nbformat": 4,
 "nbformat_minor": 5
}