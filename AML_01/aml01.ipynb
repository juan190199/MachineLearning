{
 "cells": [
  {
   "cell_type": "markdown",
   "id": "satellite-appliance",
   "metadata": {},
   "source": [
    "## AML 01\n",
    "***"
   ]
  },
  {
   "cell_type": "markdown",
   "id": "satisfied-violation",
   "metadata": {},
   "source": [
    "### Data Preparation"
   ]
  },
  {
   "cell_type": "code",
   "execution_count": 1,
   "id": "ordinary-today",
   "metadata": {},
   "outputs": [],
   "source": [
    "from sklearn.datasets import load_digits\n",
    "from data_preparation import data_preparation\n",
    "\n",
    "from sklearn.model_selection import cross_val_score\n",
    "from sklearn.linear_model import LogisticRegression\n",
    "\n",
    "import numpy as np\n",
    "\n",
    "%load_ext autoreload\n",
    "%autoreload 2"
   ]
  },
  {
   "cell_type": "code",
   "execution_count": 2,
   "id": "useful-hayes",
   "metadata": {},
   "outputs": [
    {
     "name": "stdout",
     "output_type": "stream",
     "text": [
      "dict_keys(['data', 'target', 'frame', 'feature_names', 'target_names', 'images', 'DESCR'])\n"
     ]
    }
   ],
   "source": [
    "digits = load_digits()\n",
    "print(digits.keys())"
   ]
  },
  {
   "cell_type": "code",
   "execution_count": 3,
   "id": "technical-kennedy",
   "metadata": {},
   "outputs": [],
   "source": [
    "data = digits['data']\n",
    "images = digits['images']\n",
    "target = ['target']\n",
    "target_names = ['target_names']"
   ]
  },
  {
   "cell_type": "code",
   "execution_count": 4,
   "id": "tribal-sharp",
   "metadata": {},
   "outputs": [],
   "source": [
    "X, y = data_preparation(digits, filter=[3, 8])"
   ]
  },
  {
   "cell_type": "code",
   "execution_count": 5,
   "id": "looking-mandate",
   "metadata": {
    "pycharm": {
     "name": "#%%\n"
    }
   },
   "outputs": [],
   "source": [
    "lambdas = [10 ** i for i in range(-5, 5)]"
   ]
  },
  {
   "cell_type": "code",
   "execution_count": 6,
   "id": "acute-elephant",
   "metadata": {
    "pycharm": {
     "name": "#%%\n"
    }
   },
   "outputs": [
    {
     "name": "stdout",
     "output_type": "stream",
     "text": [
      "Lambda\t\t Accuracy\n",
      "=========================\n",
      "1e-05 \t\t 0.94937\n",
      "0.0001 \t\t 0.95227\n",
      "0.001 \t\t 0.94953\n",
      "0.01 \t\t 0.95802\n",
      "0.1 \t\t 0.96365\n",
      "1 \t\t 0.96643\n",
      "10 \t\t 0.96362\n",
      "100 \t\t 0.96084\n",
      "1000 \t\t 0.95802\n",
      "10000 \t\t 0.95802\n"
     ]
    }
   ],
   "source": [
    "accuracies = []\n",
    "print(\"Lambda\\t\\t Accuracy\")\n",
    "print(\"=========================\")\n",
    "for lmbda in lambdas:\n",
    "    LR = LogisticRegression(C=lmbda, solver='liblinear')\n",
    "    accuracy = cross_val_score(LR, X, y, cv=5)\n",
    "    accuracies.append(np.mean(accuracy))\n",
    "    print(\"{} \\t\\t {:.5f}\".format(lmbda, accuracies[-1]))"
   ]
  },
  {
   "cell_type": "code",
   "execution_count": null,
   "id": "ceramic-prime",
   "metadata": {},
   "outputs": [],
   "source": []
  }
 ],
 "metadata": {
  "kernelspec": {
   "display_name": "Python 3",
   "language": "python",
   "name": "python3"
  },
  "language_info": {
   "codemirror_mode": {
    "name": "ipython",
    "version": 3
   },
   "file_extension": ".py",
   "mimetype": "text/x-python",
   "name": "python",
   "nbconvert_exporter": "python",
   "pygments_lexer": "ipython3",
   "version": "3.8.2"
  }
 },
 "nbformat": 4,
 "nbformat_minor": 5
}
