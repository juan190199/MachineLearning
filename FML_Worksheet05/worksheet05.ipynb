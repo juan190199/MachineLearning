{
 "cells": [
  {
   "cell_type": "markdown",
   "id": "conservative-observation",
   "metadata": {},
   "source": [
    "## Worksheet 05\n",
    "***"
   ]
  },
  {
   "cell_type": "code",
   "execution_count": 1,
   "id": "interesting-freight",
   "metadata": {},
   "outputs": [],
   "source": [
    "from sklearn.datasets import load_digits\n",
    "\n",
    "import numpy as np"
   ]
  },
  {
   "cell_type": "markdown",
   "id": "portuguese-anthony",
   "metadata": {},
   "source": [
    "### Evaluation Density Tree and Decision Tree"
   ]
  },
  {
   "cell_type": "code",
   "execution_count": 2,
   "id": "satisfied-montana",
   "metadata": {},
   "outputs": [],
   "source": [
    "digits = load_digits()\n",
    "data = digits['data']\n",
    "target = digits['target']\n",
    "\n",
    "# Subsets for each digit\n",
    "data_subsets = [data[target==i] for i in  range(10)]"
   ]
  },
  {
   "cell_type": "code",
   "execution_count": null,
   "id": "contemporary-removal",
   "metadata": {},
   "outputs": [],
   "source": []
  }
 ],
 "metadata": {
  "kernelspec": {
   "display_name": "Python 3",
   "language": "python",
   "name": "python3"
  },
  "language_info": {
   "codemirror_mode": {
    "name": "ipython",
    "version": 3
   },
   "file_extension": ".py",
   "mimetype": "text/x-python",
   "name": "python",
   "nbconvert_exporter": "python",
   "pygments_lexer": "ipython3",
   "version": "3.8.2"
  }
 },
 "nbformat": 4,
 "nbformat_minor": 5
}
