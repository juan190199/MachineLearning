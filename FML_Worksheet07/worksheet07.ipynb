{
 "cells": [
  {
   "cell_type": "markdown",
   "id": "ancient-miller",
   "metadata": {},
   "source": [
    "## Worksheet 07\n",
    "***"
   ]
  },
  {
   "cell_type": "code",
   "execution_count": 17,
   "id": "touched-monday",
   "metadata": {},
   "outputs": [
    {
     "name": "stdout",
     "output_type": "stream",
     "text": [
      "The autoreload extension is already loaded. To reload it, use:\n",
      "  %reload_ext autoreload\n"
     ]
    }
   ],
   "source": [
    "import numpy as np\n",
    "import matplotlib.pyplot as plt\n",
    "\n",
    "from scipy.sparse import coo_matrix\n",
    "from scipy.sparse.linalg import lsqr\n",
    "\n",
    "%load_ext autoreload\n",
    "%autoreload 2"
   ]
  },
  {
   "cell_type": "markdown",
   "id": "entitled-toddler",
   "metadata": {},
   "source": [
    "To construct X efficiently, all operations with same angle $\\alpha$ can be vectorized and all image pixels can be projected on the sensor array at once.\n",
    "\n",
    "The values, as well as their indices $i$ and $j$, to be put into the sparse matrix, are collected in three corresponding lists. This way a more efficient coordinate format (scipy.sparse.coo_matrix) can be used to assemble the matrix at the end"
   ]
  },
  {
   "cell_type": "code",
   "execution_count": 18,
   "id": "numerical-interim",
   "metadata": {},
   "outputs": [],
   "source": [
    "def constr_X(M, alphas, Np=None):\n",
    "    \"\"\"\n",
    "    Construct design matrix X\n",
    "    : param M: int \n",
    "        Tomogram is an array-like of shape (M, M)\n",
    "    \n",
    "    : param alphas: Array-like of shape (n_alphas, )\n",
    "        List of measurement angles in degrees\n",
    "        \n",
    "    : param Np: Default=None\n",
    "        Optional sensor resolution\n",
    "    \"\"\"\n",
    "    # Define sensor size\n",
    "    if Np is None:\n",
    "        Np = int(np.ceil(np.sqrt(2) * M))\n",
    "        if Np % 2 == 0:\n",
    "            Np += 1\n",
    "    # Number of angles\n",
    "    No = len(alphas)\n",
    "    # Define design matrix X\n",
    "    D_beta = M * M\n",
    "    D_y = No * Np\n",
    "    \n",
    "    # Flattened output coordinates\n",
    "    j = np.mgrid[0 : D_beta].astype(np.int32)\n",
    "    # Coordinate matrix for the output pixels\n",
    "    M2 = (M - 1) / 2  # Center matrix\n",
    "    grid = np.mgrid[-M2 : M - M2, -M2 : M - M2].swapaxes(1, 2).reshape(2, D_beta)\n",
    "    \n",
    "    # Collect indices and corresponding values for all iterations\n",
    "    i_idx = []\n",
    "    j_idx = []\n",
    "    weights = []\n",
    "    \n",
    "    for k, alpha in enumerate(alphas):\n",
    "        # Covert angle and projection vector\n",
    "        alph_rad = np.radians(alpha)\n",
    "        proj_vec = np.array([np.cos(alph_rad), -np.sin(alph_rad)])\n",
    "        # Project coordinates\n",
    "        \n",
    "        # Compute sensor indices and weights below the projected points\n",
    "        \n",
    "        # Rays falling outside the sensor are not counted\n",
    "        \n",
    "        # Compute sensor indices and weights above the projected points\n",
    "        \n",
    "    # Construct matrix X\n",
    "    i = np.concatenate(i_idx).astype(np.int32)\n",
    "    j = np.concatenate(j_idx).astype(np.int32)\n",
    "    w = np.concatenate(weights)\n",
    "    X = coo_matrix((w, (i, j)), shape=(D_y, D_beta), dtype=np.float32)\n",
    "    \n",
    "    return X"
   ]
  },
  {
   "cell_type": "code",
   "execution_count": null,
   "id": "desirable-brisbane",
   "metadata": {},
   "outputs": [],
   "source": []
  }
 ],
 "metadata": {
  "kernelspec": {
   "display_name": "Python 3",
   "language": "python",
   "name": "python3"
  },
  "language_info": {
   "codemirror_mode": {
    "name": "ipython",
    "version": 3
   },
   "file_extension": ".py",
   "mimetype": "text/x-python",
   "name": "python",
   "nbconvert_exporter": "python",
   "pygments_lexer": "ipython3",
   "version": "3.8.2"
  }
 },
 "nbformat": 4,
 "nbformat_minor": 5
}
