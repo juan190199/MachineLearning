{
 "cells": [
  {
   "cell_type": "markdown",
   "id": "asian-collapse",
   "metadata": {},
   "source": [
    "## Worksheet 07\n",
    "***"
   ]
  },
  {
   "cell_type": "code",
   "execution_count": 1,
   "id": "detected-tampa",
   "metadata": {},
   "outputs": [],
   "source": [
    "import numpy as np\n",
    "import matplotlib.pyplot as plt\n",
    "\n",
    "from scipy.sparse import dok_matrix, coo_matrix\n",
    "from scipy.sparse.linalg import lsqr\n",
    "\n",
    "%load_ext autoreload\n",
    "%autoreload 2"
   ]
  },
  {
   "cell_type": "code",
   "execution_count": null,
   "id": "final-james",
   "metadata": {},
   "outputs": [],
   "source": [
    "def constr_X(M, alphas, Np=None):\n",
    "    \"\"\"\n",
    "    Construct design matrix X\n",
    "    : param M: int \n",
    "        Tomogram is an array-like of shape (M, M)\n",
    "    \n",
    "    : param alphas: Array-like of shape (n_alphas, )\n",
    "        List of measurement angles in degrees\n",
    "        \n",
    "    : param Np: Default=None\n",
    "        Optional sensor resolution\n",
    "    \"\"\"\n",
    "    # Define sensor size\n",
    "    if Np is None:\n",
    "        Np = int(np.ceil(np.sqrt(2) * M))\n",
    "        if Np % 2 == 0\n",
    "            Np += 1\n",
    "    \n",
    "    # Define design matrix X\n",
    "    D_beta = M * M\n",
    "    D_y = len(alpha) * Np\n",
    "    \n",
    "    X = np.empty((D_beta, D_y))\n",
    "    \n",
    "    # Loop through all measurement angles\n",
    "    for i, alpha in enumerate(alphas):\n",
    "        # Tranform angle to radians and define rotation matrix (instead of rotating sensor matrix)\n",
    "        alpha_rad = np.radians(alpha)\n",
    "        rot_matrix = np.array([np.cos(alpha_rad), -np.sin(alpha_rad)],\n",
    "                              [np.sin(alpha_rad), np.cos(alpha_rad)])\n",
    "        for y in range(M):\n",
    "            for x in range(M):\n",
    "                # Center coordinates\n",
    "                p = x - (M - 1) / 2\n",
    "                q = y - (M - 1) / 2\n",
    "                # Rotate matrix s.t. sensor array and design matrix are aligned for the particular measurement\n",
    "                p, q = rot_matrix.dot([p, q])\n",
    "                # Calculate intersection xray with sensor array\n",
    "                pos = p + (Np - 1) / 2\n",
    "                \n",
    "                # Find negihboring sensor elements\n",
    "                el0 = int(np.floor(pos))\n",
    "                el1 = int(np.ceil(pos))\n",
    "                \n",
    "                # X keeps track on how much pixel (x, y) contributes to the two sensor elements for the particular measurement\n",
    "                if el0 == el1:\n",
    "                    X[i * Np + el0, y * M + x] = 1.0\n",
    "                else:\n",
    "                    # Interpolation coefficients\n",
    "                    val0 = el1 - pos\n",
    "                    val1 = pos - el0\n",
    "                    \n",
    "                    # Corner cases\n",
    "                    if el0 == 0:\n",
    "                        X[i * Np, y * M + x] = val1\n",
    "                    elif el0 == Np - 1:\n",
    "                        X[i * Np + el0, y * M + x] = val0\n",
    "                    # Interpolation\n",
    "                    else:\n",
    "                        X[i * Np + el0, y * M + x] = val0\n",
    "                        X[i * Np + el1, y * M + x] = val1\n",
    "    return X"
   ]
  }
 ],
 "metadata": {
  "kernelspec": {
   "display_name": "Python 3",
   "language": "python",
   "name": "python3"
  },
  "language_info": {
   "codemirror_mode": {
    "name": "ipython",
    "version": 3
   },
   "file_extension": ".py",
   "mimetype": "text/x-python",
   "name": "python",
   "nbconvert_exporter": "python",
   "pygments_lexer": "ipython3",
   "version": "3.8.2"
  }
 },
 "nbformat": 4,
 "nbformat_minor": 5
}
