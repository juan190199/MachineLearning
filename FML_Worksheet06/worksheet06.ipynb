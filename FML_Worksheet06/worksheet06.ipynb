{
 "cells": [
  {
   "cell_type": "markdown",
   "id": "expensive-child",
   "metadata": {},
   "source": [
    "## Worksheet 06\n",
    "***"
   ]
  },
  {
   "cell_type": "markdown",
   "id": "painful-biodiversity",
   "metadata": {},
   "source": [
    "### Red Card Study\n",
    "**Crowdsourcing data analysis: Do soccer referees give more red cards to dark skin toned players?**"
   ]
  },
  {
   "cell_type": "code",
   "execution_count": 1,
   "id": "assigned-journey",
   "metadata": {},
   "outputs": [],
   "source": [
    "import os\n",
    "\n",
    "import numpy as np\n",
    "import random\n",
    "import scipy.stats.mstats as ssm\n",
    "from scipy.stats import gaussian_kde as kde\n",
    "\n",
    "from utils import (mean_squared_error, k_fold_cv)\n",
    "\n",
    "import pandas as pd\n",
    "import matplotlib.pyplot as plt\n",
    "\n",
    "import seaborn as sns\n",
    "\n",
    "from sklearn import linear_model\n",
    "from regression_tree import RegressionTree\n",
    "\n",
    "from data.data_preparation import data_preparation\n",
    "from data.my_dataset import MyDataset\n",
    "\n",
    "%load_ext autoreload\n",
    "%autoreload 2"
   ]
  },
  {
   "cell_type": "code",
   "execution_count": 2,
   "id": "hazardous-bishop",
   "metadata": {},
   "outputs": [],
   "source": [
    "# Load data\n",
    "filename = os.path.join('data', 'CrowdstormingDataJuly1st.csv')\n",
    "df = pd.read_csv(filename)"
   ]
  },
  {
   "cell_type": "markdown",
   "id": "about-december",
   "metadata": {},
   "source": [
    "A referee-player dyad describes the interactions between a particular ref and one player. This means that each row in the dataset is of a unique player-ref combination, listing all of the games by a given player with a particular referee at any point in his career.\n",
    "\n",
    "Let's have a look at the first few rows of the data set to have a better understanding"
   ]
  },
  {
   "cell_type": "code",
   "execution_count": 3,
   "id": "friendly-sitting",
   "metadata": {},
   "outputs": [
    {
     "data": {
      "text/html": [
       "<div>\n",
       "<style scoped>\n",
       "    .dataframe tbody tr th:only-of-type {\n",
       "        vertical-align: middle;\n",
       "    }\n",
       "\n",
       "    .dataframe tbody tr th {\n",
       "        vertical-align: top;\n",
       "    }\n",
       "\n",
       "    .dataframe thead th {\n",
       "        text-align: right;\n",
       "    }\n",
       "</style>\n",
       "<table border=\"1\" class=\"dataframe\">\n",
       "  <thead>\n",
       "    <tr style=\"text-align: right;\">\n",
       "      <th></th>\n",
       "      <th>playerShort</th>\n",
       "      <th>player</th>\n",
       "      <th>club</th>\n",
       "      <th>leagueCountry</th>\n",
       "      <th>birthday</th>\n",
       "      <th>height</th>\n",
       "      <th>weight</th>\n",
       "      <th>position</th>\n",
       "      <th>games</th>\n",
       "      <th>victories</th>\n",
       "      <th>...</th>\n",
       "      <th>rater2</th>\n",
       "      <th>refNum</th>\n",
       "      <th>refCountry</th>\n",
       "      <th>Alpha_3</th>\n",
       "      <th>meanIAT</th>\n",
       "      <th>nIAT</th>\n",
       "      <th>seIAT</th>\n",
       "      <th>meanExp</th>\n",
       "      <th>nExp</th>\n",
       "      <th>seExp</th>\n",
       "    </tr>\n",
       "  </thead>\n",
       "  <tbody>\n",
       "    <tr>\n",
       "      <th>0</th>\n",
       "      <td>lucas-wilchez</td>\n",
       "      <td>Lucas Wilchez</td>\n",
       "      <td>Real Zaragoza</td>\n",
       "      <td>Spain</td>\n",
       "      <td>31.08.1983</td>\n",
       "      <td>177.0</td>\n",
       "      <td>72.0</td>\n",
       "      <td>Attacking Midfielder</td>\n",
       "      <td>1</td>\n",
       "      <td>0</td>\n",
       "      <td>...</td>\n",
       "      <td>0.50</td>\n",
       "      <td>1</td>\n",
       "      <td>1</td>\n",
       "      <td>GRC</td>\n",
       "      <td>0.326391</td>\n",
       "      <td>712.0</td>\n",
       "      <td>0.000564</td>\n",
       "      <td>0.396000</td>\n",
       "      <td>750.0</td>\n",
       "      <td>0.002696</td>\n",
       "    </tr>\n",
       "    <tr>\n",
       "      <th>1</th>\n",
       "      <td>john-utaka</td>\n",
       "      <td>John Utaka</td>\n",
       "      <td>Montpellier HSC</td>\n",
       "      <td>France</td>\n",
       "      <td>08.01.1982</td>\n",
       "      <td>179.0</td>\n",
       "      <td>82.0</td>\n",
       "      <td>Right Winger</td>\n",
       "      <td>1</td>\n",
       "      <td>0</td>\n",
       "      <td>...</td>\n",
       "      <td>0.75</td>\n",
       "      <td>2</td>\n",
       "      <td>2</td>\n",
       "      <td>ZMB</td>\n",
       "      <td>0.203375</td>\n",
       "      <td>40.0</td>\n",
       "      <td>0.010875</td>\n",
       "      <td>-0.204082</td>\n",
       "      <td>49.0</td>\n",
       "      <td>0.061504</td>\n",
       "    </tr>\n",
       "    <tr>\n",
       "      <th>2</th>\n",
       "      <td>abdon-prats</td>\n",
       "      <td>Abdón Prats</td>\n",
       "      <td>RCD Mallorca</td>\n",
       "      <td>Spain</td>\n",
       "      <td>17.12.1992</td>\n",
       "      <td>181.0</td>\n",
       "      <td>79.0</td>\n",
       "      <td>NaN</td>\n",
       "      <td>1</td>\n",
       "      <td>0</td>\n",
       "      <td>...</td>\n",
       "      <td>NaN</td>\n",
       "      <td>3</td>\n",
       "      <td>3</td>\n",
       "      <td>ESP</td>\n",
       "      <td>0.369894</td>\n",
       "      <td>1785.0</td>\n",
       "      <td>0.000229</td>\n",
       "      <td>0.588297</td>\n",
       "      <td>1897.0</td>\n",
       "      <td>0.001002</td>\n",
       "    </tr>\n",
       "    <tr>\n",
       "      <th>3</th>\n",
       "      <td>pablo-mari</td>\n",
       "      <td>Pablo Marí</td>\n",
       "      <td>RCD Mallorca</td>\n",
       "      <td>Spain</td>\n",
       "      <td>31.08.1993</td>\n",
       "      <td>191.0</td>\n",
       "      <td>87.0</td>\n",
       "      <td>Center Back</td>\n",
       "      <td>1</td>\n",
       "      <td>1</td>\n",
       "      <td>...</td>\n",
       "      <td>NaN</td>\n",
       "      <td>3</td>\n",
       "      <td>3</td>\n",
       "      <td>ESP</td>\n",
       "      <td>0.369894</td>\n",
       "      <td>1785.0</td>\n",
       "      <td>0.000229</td>\n",
       "      <td>0.588297</td>\n",
       "      <td>1897.0</td>\n",
       "      <td>0.001002</td>\n",
       "    </tr>\n",
       "    <tr>\n",
       "      <th>4</th>\n",
       "      <td>ruben-pena</td>\n",
       "      <td>Rubén Peña</td>\n",
       "      <td>Real Valladolid</td>\n",
       "      <td>Spain</td>\n",
       "      <td>18.07.1991</td>\n",
       "      <td>172.0</td>\n",
       "      <td>70.0</td>\n",
       "      <td>Right Midfielder</td>\n",
       "      <td>1</td>\n",
       "      <td>1</td>\n",
       "      <td>...</td>\n",
       "      <td>NaN</td>\n",
       "      <td>3</td>\n",
       "      <td>3</td>\n",
       "      <td>ESP</td>\n",
       "      <td>0.369894</td>\n",
       "      <td>1785.0</td>\n",
       "      <td>0.000229</td>\n",
       "      <td>0.588297</td>\n",
       "      <td>1897.0</td>\n",
       "      <td>0.001002</td>\n",
       "    </tr>\n",
       "    <tr>\n",
       "      <th>5</th>\n",
       "      <td>aaron-hughes</td>\n",
       "      <td>Aaron Hughes</td>\n",
       "      <td>Fulham FC</td>\n",
       "      <td>England</td>\n",
       "      <td>08.11.1979</td>\n",
       "      <td>182.0</td>\n",
       "      <td>71.0</td>\n",
       "      <td>Center Back</td>\n",
       "      <td>1</td>\n",
       "      <td>0</td>\n",
       "      <td>...</td>\n",
       "      <td>0.00</td>\n",
       "      <td>4</td>\n",
       "      <td>4</td>\n",
       "      <td>LUX</td>\n",
       "      <td>0.325185</td>\n",
       "      <td>127.0</td>\n",
       "      <td>0.003297</td>\n",
       "      <td>0.538462</td>\n",
       "      <td>130.0</td>\n",
       "      <td>0.013752</td>\n",
       "    </tr>\n",
       "    <tr>\n",
       "      <th>6</th>\n",
       "      <td>aleksandar-kolarov</td>\n",
       "      <td>Aleksandar Kolarov</td>\n",
       "      <td>Manchester City</td>\n",
       "      <td>England</td>\n",
       "      <td>10.11.1985</td>\n",
       "      <td>187.0</td>\n",
       "      <td>80.0</td>\n",
       "      <td>Left Fullback</td>\n",
       "      <td>1</td>\n",
       "      <td>1</td>\n",
       "      <td>...</td>\n",
       "      <td>0.25</td>\n",
       "      <td>4</td>\n",
       "      <td>4</td>\n",
       "      <td>LUX</td>\n",
       "      <td>0.325185</td>\n",
       "      <td>127.0</td>\n",
       "      <td>0.003297</td>\n",
       "      <td>0.538462</td>\n",
       "      <td>130.0</td>\n",
       "      <td>0.013752</td>\n",
       "    </tr>\n",
       "    <tr>\n",
       "      <th>7</th>\n",
       "      <td>alexander-tettey</td>\n",
       "      <td>Alexander Tettey</td>\n",
       "      <td>Norwich City</td>\n",
       "      <td>England</td>\n",
       "      <td>04.04.1986</td>\n",
       "      <td>180.0</td>\n",
       "      <td>68.0</td>\n",
       "      <td>Defensive Midfielder</td>\n",
       "      <td>1</td>\n",
       "      <td>0</td>\n",
       "      <td>...</td>\n",
       "      <td>1.00</td>\n",
       "      <td>4</td>\n",
       "      <td>4</td>\n",
       "      <td>LUX</td>\n",
       "      <td>0.325185</td>\n",
       "      <td>127.0</td>\n",
       "      <td>0.003297</td>\n",
       "      <td>0.538462</td>\n",
       "      <td>130.0</td>\n",
       "      <td>0.013752</td>\n",
       "    </tr>\n",
       "    <tr>\n",
       "      <th>8</th>\n",
       "      <td>anders-lindegaard</td>\n",
       "      <td>Anders Lindegaard</td>\n",
       "      <td>Manchester United</td>\n",
       "      <td>England</td>\n",
       "      <td>13.04.1984</td>\n",
       "      <td>193.0</td>\n",
       "      <td>80.0</td>\n",
       "      <td>Goalkeeper</td>\n",
       "      <td>1</td>\n",
       "      <td>0</td>\n",
       "      <td>...</td>\n",
       "      <td>0.25</td>\n",
       "      <td>4</td>\n",
       "      <td>4</td>\n",
       "      <td>LUX</td>\n",
       "      <td>0.325185</td>\n",
       "      <td>127.0</td>\n",
       "      <td>0.003297</td>\n",
       "      <td>0.538462</td>\n",
       "      <td>130.0</td>\n",
       "      <td>0.013752</td>\n",
       "    </tr>\n",
       "    <tr>\n",
       "      <th>9</th>\n",
       "      <td>andreas-beck</td>\n",
       "      <td>Andreas Beck</td>\n",
       "      <td>1899 Hoffenheim</td>\n",
       "      <td>Germany</td>\n",
       "      <td>13.03.1987</td>\n",
       "      <td>180.0</td>\n",
       "      <td>70.0</td>\n",
       "      <td>Right Fullback</td>\n",
       "      <td>1</td>\n",
       "      <td>1</td>\n",
       "      <td>...</td>\n",
       "      <td>0.00</td>\n",
       "      <td>4</td>\n",
       "      <td>4</td>\n",
       "      <td>LUX</td>\n",
       "      <td>0.325185</td>\n",
       "      <td>127.0</td>\n",
       "      <td>0.003297</td>\n",
       "      <td>0.538462</td>\n",
       "      <td>130.0</td>\n",
       "      <td>0.013752</td>\n",
       "    </tr>\n",
       "  </tbody>\n",
       "</table>\n",
       "<p>10 rows × 28 columns</p>\n",
       "</div>"
      ],
      "text/plain": [
       "          playerShort              player               club leagueCountry  \\\n",
       "0       lucas-wilchez       Lucas Wilchez      Real Zaragoza         Spain   \n",
       "1          john-utaka          John Utaka    Montpellier HSC        France   \n",
       "2         abdon-prats         Abdón Prats       RCD Mallorca         Spain   \n",
       "3          pablo-mari          Pablo Marí       RCD Mallorca         Spain   \n",
       "4          ruben-pena          Rubén Peña    Real Valladolid         Spain   \n",
       "5        aaron-hughes        Aaron Hughes          Fulham FC       England   \n",
       "6  aleksandar-kolarov  Aleksandar Kolarov    Manchester City       England   \n",
       "7    alexander-tettey    Alexander Tettey       Norwich City       England   \n",
       "8   anders-lindegaard   Anders Lindegaard  Manchester United       England   \n",
       "9        andreas-beck        Andreas Beck    1899 Hoffenheim       Germany   \n",
       "\n",
       "     birthday  height  weight              position  games  victories  ...  \\\n",
       "0  31.08.1983   177.0    72.0  Attacking Midfielder      1          0  ...   \n",
       "1  08.01.1982   179.0    82.0          Right Winger      1          0  ...   \n",
       "2  17.12.1992   181.0    79.0                   NaN      1          0  ...   \n",
       "3  31.08.1993   191.0    87.0           Center Back      1          1  ...   \n",
       "4  18.07.1991   172.0    70.0      Right Midfielder      1          1  ...   \n",
       "5  08.11.1979   182.0    71.0           Center Back      1          0  ...   \n",
       "6  10.11.1985   187.0    80.0         Left Fullback      1          1  ...   \n",
       "7  04.04.1986   180.0    68.0  Defensive Midfielder      1          0  ...   \n",
       "8  13.04.1984   193.0    80.0            Goalkeeper      1          0  ...   \n",
       "9  13.03.1987   180.0    70.0        Right Fullback      1          1  ...   \n",
       "\n",
       "   rater2  refNum  refCountry  Alpha_3   meanIAT    nIAT     seIAT   meanExp  \\\n",
       "0    0.50       1           1      GRC  0.326391   712.0  0.000564  0.396000   \n",
       "1    0.75       2           2      ZMB  0.203375    40.0  0.010875 -0.204082   \n",
       "2     NaN       3           3      ESP  0.369894  1785.0  0.000229  0.588297   \n",
       "3     NaN       3           3      ESP  0.369894  1785.0  0.000229  0.588297   \n",
       "4     NaN       3           3      ESP  0.369894  1785.0  0.000229  0.588297   \n",
       "5    0.00       4           4      LUX  0.325185   127.0  0.003297  0.538462   \n",
       "6    0.25       4           4      LUX  0.325185   127.0  0.003297  0.538462   \n",
       "7    1.00       4           4      LUX  0.325185   127.0  0.003297  0.538462   \n",
       "8    0.25       4           4      LUX  0.325185   127.0  0.003297  0.538462   \n",
       "9    0.00       4           4      LUX  0.325185   127.0  0.003297  0.538462   \n",
       "\n",
       "     nExp     seExp  \n",
       "0   750.0  0.002696  \n",
       "1    49.0  0.061504  \n",
       "2  1897.0  0.001002  \n",
       "3  1897.0  0.001002  \n",
       "4  1897.0  0.001002  \n",
       "5   130.0  0.013752  \n",
       "6   130.0  0.013752  \n",
       "7   130.0  0.013752  \n",
       "8   130.0  0.013752  \n",
       "9   130.0  0.013752  \n",
       "\n",
       "[10 rows x 28 columns]"
      ]
     },
     "execution_count": 3,
     "metadata": {},
     "output_type": "execute_result"
    }
   ],
   "source": [
    "df.iloc[:10, :]"
   ]
  },
  {
   "cell_type": "markdown",
   "id": "empty-fruit",
   "metadata": {},
   "source": [
    "#### Some stats of the data set"
   ]
  },
  {
   "cell_type": "code",
   "execution_count": 4,
   "id": "twenty-scratch",
   "metadata": {},
   "outputs": [
    {
     "name": "stderr",
     "output_type": "stream",
     "text": [
      "<ipython-input-4-7619ce08efb5>:14: SettingWithCopyWarning: \n",
      "A value is trying to be set on a copy of a slice from a DataFrame\n",
      "\n",
      "See the caveats in the documentation: https://pandas.pydata.org/pandas-docs/stable/user_guide/indexing.html#returning-a-view-versus-a-copy\n",
      "  dfd['refCount'][dfd['refNum'] == r] = len(dfd[dfd['refNum'] == r])\n"
     ]
    }
   ],
   "source": [
    "# Data Disaggregation\n",
    "dfd = df.copy()\n",
    "# Add new variables\n",
    "dfd['skintone'] = (dfd['rater1'] + dfd['rater2']) / 2\n",
    "dfd['allreds'] = dfd['yellowReds'] + dfd['redCards']\n",
    "dfd['allredsStrict'] = dfd['allreds']\n",
    "dfd['refCount'] = 0\n",
    "\n",
    "# Add new feature tracking number of games per ref\n",
    "refs = np.unique(dfd['refNum'].values.ravel) # List all unique ref IDs\n",
    "\n",
    "# Count dyads per ref\n",
    "for r in refs:\n",
    "    dfd['refCount'][dfd['refNum'] == r] = len(dfd[dfd['refNum'] == r])\n",
    "    \n",
    "col_names = list(dfd.columns)\n",
    "\n",
    "j = 0\n",
    "out = [0 for _ in range(sum(dfd['games']))]\n",
    "for _, row in dfd.iterrows():\n",
    "    n = row['games']\n",
    "    c = row['allreds']\n",
    "    d = row['allredsStrict']\n",
    "    \n",
    "    for _ in range(n):\n",
    "        row['allreds'] = 1 if (c - _) > 0 else 0\n",
    "        row['allredsStrict'] = 1 if (d - _) > 0 else 0\n",
    "        rowlist=list(row)\n",
    "        out[j] = rowlist\n",
    "        j += 1"
   ]
  },
  {
   "cell_type": "code",
   "execution_count": 5,
   "id": "boolean-optimization",
   "metadata": {
    "scrolled": true
   },
   "outputs": [
    {
     "name": "stdout",
     "output_type": "stream",
     "text": [
      "Number of refs = 3147\n",
      "Number of dyads in the dataset = 146028\n",
      "Median number of dyads per referee = 8.0\n"
     ]
    }
   ],
   "source": [
    "allRefs = dfd.refNum.value_counts()\n",
    "print(\"Number of refs =\", len(allRefs))\n",
    "print(\"Number of dyads in the dataset =\", sum(allRefs))\n",
    "print(\"Median number of dyads per referee =\", np.median(allRefs))"
   ]
  },
  {
   "cell_type": "code",
   "execution_count": 6,
   "id": "architectural-supplier",
   "metadata": {
    "scrolled": true
   },
   "outputs": [
    {
     "data": {
      "image/png": "[encoded data removed]",
      "text/plain": [
       "<Figure size 864x288 with 1 Axes>"
      ]
     },
     "metadata": {
      "needs_background": "light"
     },
     "output_type": "display_data"
    }
   ],
   "source": [
    "# Refs country frequency 'Alpha_3'\n",
    "fig, ax = plt.subplots(1, 1, figsize=(12, 4))\n",
    "x = dfd.Alpha_3.value_counts()\n",
    "lines = ax.plot(x, marker='.', ms=10)\n",
    "y = x.index.tolist()\n",
    "\n",
    "ax.set_title('Referee nationality by number of games')\n",
    "ax.set_xlabel('Country number (Ordered by frequency)')\n",
    "ax.set_ylabel('Frequency of games')\n",
    "ax.set_xlim([-3,160])\n",
    "ax.set_xticks(np.arange(0, 160, step=20))\n",
    "ax.set_xticklabels(np.arange(0, 160, step=20))\n",
    "\n",
    "plt.tight_layout()\n",
    "plt.show()"
   ]
  },
  {
   "cell_type": "code",
   "execution_count": 7,
   "id": "unlimited-minority",
   "metadata": {},
   "outputs": [
    {
     "data": {
      "image/png": "[encoded data removed]",
      "text/plain": [
       "<Figure size 864x288 with 1 Axes>"
      ]
     },
     "metadata": {
      "needs_background": "light"
     },
     "output_type": "display_data"
    }
   ],
   "source": [
    "fig, ax = plt.subplots(1, 1, figsize=(12, 4))\n",
    "ax.hist(allRefs.tolist(), bins=len(allRefs), histtype='stepfilled', edgecolor='none')\n",
    "ax.set_xscale('symlog')\n",
    "ax.set_yscale('symlog')\n",
    "ax.set_title(\"Referee occurance, log scaled\")\n",
    "ax.set_xlabel(\"log (number of occurances)\")\n",
    "ax.set_ylabel(\"log (frequency)\")\n",
    "# plt.xlim([1, 1000])\n",
    "# plt.ylim([1,1000])\n",
    "plt.tight_layout()\n",
    "plt.show()"
   ]
  },
  {
   "cell_type": "markdown",
   "id": "modular-patent",
   "metadata": {},
   "source": [
    "As we see, most games are refereed in Germany, England, France, and Spain. Moreover, most refs are only involved in a small number of dyads. On the other hand, many officiated over thousands. A median of 8.0 indicates that more than half of the refs officiated less than one game. If a ref officiated a full game in one of the 4 countries with more frequency of games, then he/she would be in at least 22 dyads (2 teams of 11 players each, more if substitutions occur).\n",
    "\n",
    "The data is cleaned up by excluding interactions by refs who feature in fewer than 22 dyads"
   ]
  },
  {
   "cell_type": "code",
   "execution_count": 8,
   "id": "rural-checkout",
   "metadata": {},
   "outputs": [
    {
     "name": "stdout",
     "output_type": "stream",
     "text": [
      "Number of refs featuring in at least 22 dyads = 998\n",
      "Number of dyads, excluding refs who officiate fewer than 22 games = 133501\n"
     ]
    }
   ],
   "source": [
    "refs = allRefs[allRefs > 21]\n",
    "print(\"Number of refs featuring in at least 22 dyads =\",len(refs))\n",
    "print(\"Number of dyads, excluding refs who officiate fewer than 22 games =\", sum(refs))"
   ]
  },
  {
   "cell_type": "code",
   "execution_count": 9,
   "id": "alert-immune",
   "metadata": {},
   "outputs": [],
   "source": [
    "# New data frame based o dyads filter\n",
    "rfilt_dfd = dfd[dfd['refNum'].isin(refs.index.values)]"
   ]
  },
  {
   "cell_type": "code",
   "execution_count": 10,
   "id": "homeless-clear",
   "metadata": {},
   "outputs": [
    {
     "data": {
      "image/png": "[encoded data removed]",
      "text/plain": [
       "<Figure size 864x288 with 4 Axes>"
      ]
     },
     "metadata": {
      "needs_background": "light"
     },
     "output_type": "display_data"
    }
   ],
   "source": [
    "# Plot skin tone rating distribution\n",
    "rated = ((dfd['rater1'] + dfd['rater2']) / 2).dropna()\n",
    "\n",
    "fig, ax = plt.subplots(1, 4, figsize=(12, 4))\n",
    "colors = sns.color_palette()\n",
    "\n",
    "ax[0].hist(rated, bins=5, range=(0, 1))\n",
    "ax[0].set_title(\"Mean rating\")\n",
    "\n",
    "ax[1].hist(dfd['rater1'].dropna().tolist(), bins=5, range=(0, 1))\n",
    "ax[1].set_title(\"Rater 1\")\n",
    "\n",
    "ax[2].hist(dfd['rater2'].dropna().tolist(), bins=5, range=(0, 1))\n",
    "ax[2].set_title(\"Rater 2\")\n",
    "\n",
    "ax[3].hist((dfd['rater1'] - dfd['rater2']).dropna(), bins = 5, range = (-0.5,0.5))\n",
    "ax[3].set_title(\"Difference\")\n",
    "\n",
    "plt.tight_layout()\n",
    "plt.show()"
   ]
  },
  {
   "cell_type": "code",
   "execution_count": 11,
   "id": "logical-machine",
   "metadata": {},
   "outputs": [
    {
     "name": "stdout",
     "output_type": "stream",
     "text": [
      "Index(['playerShort', 'player', 'club', 'leagueCountry', 'birthday', 'height',\n",
      "       'weight', 'position', 'games', 'victories', 'ties', 'defeats', 'goals',\n",
      "       'yellowCards', 'yellowReds', 'redCards', 'photoID', 'rater1', 'rater2',\n",
      "       'refNum', 'refCountry', 'Alpha_3', 'meanIAT', 'nIAT', 'seIAT',\n",
      "       'meanExp', 'nExp', 'seExp'],\n",
      "      dtype='object') \n",
      "\n",
      "Shape of the raw data:  (146028, 28) \n",
      "\n",
      "Number of unique playerShorts:  (1585,)\n",
      "Number of unique players:  (1572,) \n",
      "\n"
     ]
    },
    {
     "name": "stderr",
     "output_type": "stream",
     "text": [
      "/Library/Frameworks/Python.framework/Versions/3.8/lib/python3.8/site-packages/pandas/core/frame.py:4305: SettingWithCopyWarning: \n",
      "A value is trying to be set on a copy of a slice from a DataFrame\n",
      "\n",
      "See the caveats in the documentation: https://pandas.pydata.org/pandas-docs/stable/user_guide/indexing.html#returning-a-view-versus-a-copy\n",
      "  return super().drop(\n",
      "/Users/juan19.99/Documents/JUAN/Uni_Heidelberg/MachineLearning/FML_Worksheet06/data/data_preparation.py:49: SettingWithCopyWarning: \n",
      "A value is trying to be set on a copy of a slice from a DataFrame\n",
      "\n",
      "See the caveats in the documentation: https://pandas.pydata.org/pandas-docs/stable/user_guide/indexing.html#returning-a-view-versus-a-copy\n",
      "  df.dropna(axis=0, inplace=True)\n"
     ]
    }
   ],
   "source": [
    "# Cleaning data for solving problem\n",
    "data, aggregated_data = data_preparation()"
   ]
  },
  {
   "cell_type": "code",
   "execution_count": 12,
   "id": "controlled-railway",
   "metadata": {},
   "outputs": [],
   "source": [
    "# Cross-Validation to evaluate performance\n",
    "data_set = MyDataset(data)\n",
    "\n",
    "# Define models\n",
    "linear_regression = linear_model.LinearRegression()\n",
    "regression_tree = RegressionTree()"
   ]
  },
  {
   "cell_type": "code",
   "execution_count": 16,
   "id": "adjacent-constitutional",
   "metadata": {},
   "outputs": [
    {
     "name": "stdout",
     "output_type": "stream",
     "text": [
      "Running:  LinearRegression()\n",
      "Dataset: X_oc\n",
      "test_err: 8.35E-05\n",
      "Dataset: X_on\n",
      "test_err: 9.73E-05\n",
      "Dataset: X_oc_\n",
      "test_err: 8.35E-05\n",
      "Running:  <regression_tree.RegressionTree object at 0x7f9a9e073df0>\n",
      "Dataset: X_oc\n",
      "123 (1277, 13)\n",
      "123 (13,)\n"
     ]
    },
    {
     "ename": "AxisError",
     "evalue": "axis 1 is out of bounds for array of dimension 1",
     "output_type": "error",
     "traceback": [
      "\u001b[0;31m---------------------------------------------------------------------------\u001b[0m",
      "\u001b[0;31mAxisError\u001b[0m                                 Traceback (most recent call last)",
      "\u001b[0;32m<ipython-input-16-0992aa69839c>\u001b[0m in \u001b[0;36m<module>\u001b[0;34m\u001b[0m\n\u001b[1;32m      7\u001b[0m         \u001b[0mtargets\u001b[0m \u001b[0;34m=\u001b[0m \u001b[0mdata_set\u001b[0m\u001b[0;34m.\u001b[0m\u001b[0mtargets\u001b[0m\u001b[0;34m\u001b[0m\u001b[0;34m\u001b[0m\u001b[0m\n\u001b[1;32m      8\u001b[0m         \u001b[0;32massert\u001b[0m \u001b[0mfeats\u001b[0m\u001b[0;34m.\u001b[0m\u001b[0mshape\u001b[0m\u001b[0;34m[\u001b[0m\u001b[0;36m0\u001b[0m\u001b[0;34m]\u001b[0m \u001b[0;34m==\u001b[0m \u001b[0mtargets\u001b[0m\u001b[0;34m.\u001b[0m\u001b[0mshape\u001b[0m\u001b[0;34m[\u001b[0m\u001b[0;36m0\u001b[0m\u001b[0;34m]\u001b[0m\u001b[0;34m\u001b[0m\u001b[0;34m\u001b[0m\u001b[0m\n\u001b[0;32m----> 9\u001b[0;31m         \u001b[0merr_train\u001b[0m\u001b[0;34m,\u001b[0m \u001b[0mstd_err_train\u001b[0m\u001b[0;34m,\u001b[0m \u001b[0merr_test\u001b[0m\u001b[0;34m,\u001b[0m \u001b[0mstd_err_test\u001b[0m \u001b[0;34m=\u001b[0m \u001b[0mk_fold_cv\u001b[0m\u001b[0;34m(\u001b[0m\u001b[0mmodel\u001b[0m\u001b[0;34m,\u001b[0m \u001b[0mfeats\u001b[0m\u001b[0;34m,\u001b[0m \u001b[0mtargets\u001b[0m\u001b[0;34m,\u001b[0m \u001b[0mk\u001b[0m\u001b[0;34m)\u001b[0m\u001b[0;34m\u001b[0m\u001b[0;34m\u001b[0m\u001b[0m\n\u001b[0m\u001b[1;32m     10\u001b[0m         \u001b[0mprint\u001b[0m\u001b[0;34m(\u001b[0m\u001b[0;34m'test_err: %.2E'\u001b[0m \u001b[0;34m%\u001b[0m \u001b[0merr_test\u001b[0m\u001b[0;34m)\u001b[0m\u001b[0;34m\u001b[0m\u001b[0;34m\u001b[0m\u001b[0m\n\u001b[1;32m     11\u001b[0m \u001b[0mprint\u001b[0m\u001b[0;34m(\u001b[0m\u001b[0;34m\"Done.\"\u001b[0m\u001b[0;34m)\u001b[0m\u001b[0;34m\u001b[0m\u001b[0;34m\u001b[0m\u001b[0m\n",
      "\u001b[0;32m~/Documents/JUAN/Uni_Heidelberg/MachineLearning/FML_Worksheet06/utils.py\u001b[0m in \u001b[0;36mk_fold_cv\u001b[0;34m(model, feats, targets, k)\u001b[0m\n\u001b[1;32m     30\u001b[0m     \u001b[0;32mfor\u001b[0m \u001b[0mtrain\u001b[0m\u001b[0;34m,\u001b[0m \u001b[0mtest\u001b[0m \u001b[0;32min\u001b[0m \u001b[0mkf\u001b[0m\u001b[0;34m.\u001b[0m\u001b[0msplit\u001b[0m\u001b[0;34m(\u001b[0m\u001b[0mfeats\u001b[0m\u001b[0;34m)\u001b[0m\u001b[0;34m:\u001b[0m\u001b[0;34m\u001b[0m\u001b[0;34m\u001b[0m\u001b[0m\n\u001b[1;32m     31\u001b[0m         \u001b[0mmodel\u001b[0m\u001b[0;34m.\u001b[0m\u001b[0mfit\u001b[0m\u001b[0;34m(\u001b[0m\u001b[0mfeats\u001b[0m\u001b[0;34m[\u001b[0m\u001b[0mtrain\u001b[0m\u001b[0;34m]\u001b[0m\u001b[0;34m,\u001b[0m \u001b[0mtargets\u001b[0m\u001b[0;34m[\u001b[0m\u001b[0mtrain\u001b[0m\u001b[0;34m]\u001b[0m\u001b[0;34m)\u001b[0m\u001b[0;34m\u001b[0m\u001b[0;34m\u001b[0m\u001b[0m\n\u001b[0;32m---> 32\u001b[0;31m         \u001b[0merr_train\u001b[0m\u001b[0;34m.\u001b[0m\u001b[0mappend\u001b[0m\u001b[0;34m(\u001b[0m\u001b[0mmean_squared_error\u001b[0m\u001b[0;34m(\u001b[0m\u001b[0mmodel\u001b[0m\u001b[0;34m.\u001b[0m\u001b[0mpredict\u001b[0m\u001b[0;34m(\u001b[0m\u001b[0mfeats\u001b[0m\u001b[0;34m[\u001b[0m\u001b[0mtrain\u001b[0m\u001b[0;34m]\u001b[0m\u001b[0;34m)\u001b[0m\u001b[0;34m,\u001b[0m \u001b[0mtargets\u001b[0m\u001b[0;34m[\u001b[0m\u001b[0mtrain\u001b[0m\u001b[0;34m]\u001b[0m\u001b[0;34m)\u001b[0m\u001b[0;34m)\u001b[0m\u001b[0;34m\u001b[0m\u001b[0;34m\u001b[0m\u001b[0m\n\u001b[0m\u001b[1;32m     33\u001b[0m         \u001b[0merr_test\u001b[0m\u001b[0;34m.\u001b[0m\u001b[0mappend\u001b[0m\u001b[0;34m(\u001b[0m\u001b[0mmean_squared_error\u001b[0m\u001b[0;34m(\u001b[0m\u001b[0mmodel\u001b[0m\u001b[0;34m.\u001b[0m\u001b[0mpredict\u001b[0m\u001b[0;34m(\u001b[0m\u001b[0mfeats\u001b[0m\u001b[0;34m[\u001b[0m\u001b[0mtest\u001b[0m\u001b[0;34m]\u001b[0m\u001b[0;34m)\u001b[0m\u001b[0;34m,\u001b[0m \u001b[0mtargets\u001b[0m\u001b[0;34m[\u001b[0m\u001b[0mtest\u001b[0m\u001b[0;34m]\u001b[0m\u001b[0;34m)\u001b[0m\u001b[0;34m)\u001b[0m\u001b[0;34m\u001b[0m\u001b[0;34m\u001b[0m\u001b[0m\n\u001b[1;32m     34\u001b[0m     \u001b[0;32mreturn\u001b[0m \u001b[0mnp\u001b[0m\u001b[0;34m.\u001b[0m\u001b[0mmean\u001b[0m\u001b[0;34m(\u001b[0m\u001b[0merr_train\u001b[0m\u001b[0;34m)\u001b[0m\u001b[0;34m,\u001b[0m \u001b[0mnp\u001b[0m\u001b[0;34m.\u001b[0m\u001b[0mstd\u001b[0m\u001b[0;34m(\u001b[0m\u001b[0merr_train\u001b[0m\u001b[0;34m)\u001b[0m\u001b[0;34m,\u001b[0m \u001b[0mnp\u001b[0m\u001b[0;34m.\u001b[0m\u001b[0mmean\u001b[0m\u001b[0;34m(\u001b[0m\u001b[0merr_test\u001b[0m\u001b[0;34m)\u001b[0m\u001b[0;34m,\u001b[0m \u001b[0mnp\u001b[0m\u001b[0;34m.\u001b[0m\u001b[0mstd\u001b[0m\u001b[0;34m(\u001b[0m\u001b[0merr_test\u001b[0m\u001b[0;34m)\u001b[0m\u001b[0;34m\u001b[0m\u001b[0;34m\u001b[0m\u001b[0m\n",
      "\u001b[0;32m~/Documents/JUAN/Uni_Heidelberg/MachineLearning/FML_Worksheet06/regression_tree.py\u001b[0m in \u001b[0;36mpredict\u001b[0;34m(self, X)\u001b[0m\n\u001b[1;32m    130\u001b[0m             \u001b[0;32mreturn\u001b[0m \u001b[0mleaf\u001b[0m\u001b[0;34m.\u001b[0m\u001b[0mresponse\u001b[0m\u001b[0;34m\u001b[0m\u001b[0;34m\u001b[0m\u001b[0m\n\u001b[1;32m    131\u001b[0m         \u001b[0;32melse\u001b[0m\u001b[0;34m:\u001b[0m\u001b[0;34m\u001b[0m\u001b[0;34m\u001b[0m\u001b[0m\n\u001b[0;32m--> 132\u001b[0;31m             \u001b[0mpred\u001b[0m \u001b[0;34m=\u001b[0m \u001b[0mnp\u001b[0m\u001b[0;34m.\u001b[0m\u001b[0mapply_along_axis\u001b[0m\u001b[0;34m(\u001b[0m\u001b[0mself\u001b[0m\u001b[0;34m.\u001b[0m\u001b[0mpredict\u001b[0m\u001b[0;34m,\u001b[0m \u001b[0maxis\u001b[0m\u001b[0;34m=\u001b[0m\u001b[0;36m1\u001b[0m\u001b[0;34m,\u001b[0m \u001b[0marr\u001b[0m\u001b[0;34m=\u001b[0m\u001b[0mX\u001b[0m\u001b[0;34m)\u001b[0m\u001b[0;34m\u001b[0m\u001b[0;34m\u001b[0m\u001b[0m\n\u001b[0m\u001b[1;32m    133\u001b[0m             \u001b[0;32mreturn\u001b[0m \u001b[0mpred\u001b[0m\u001b[0;34m\u001b[0m\u001b[0;34m\u001b[0m\u001b[0m\n",
      "\u001b[0;32m<__array_function__ internals>\u001b[0m in \u001b[0;36mapply_along_axis\u001b[0;34m(*args, **kwargs)\u001b[0m\n",
      "\u001b[0;32m/Library/Frameworks/Python.framework/Versions/3.8/lib/python3.8/site-packages/numpy/lib/shape_base.py\u001b[0m in \u001b[0;36mapply_along_axis\u001b[0;34m(func1d, axis, arr, *args, **kwargs)\u001b[0m\n\u001b[1;32m    377\u001b[0m             \u001b[0;34m'Cannot apply_along_axis when any iteration dimensions are 0'\u001b[0m\u001b[0;34m\u001b[0m\u001b[0;34m\u001b[0m\u001b[0m\n\u001b[1;32m    378\u001b[0m         ) from None\n\u001b[0;32m--> 379\u001b[0;31m     \u001b[0mres\u001b[0m \u001b[0;34m=\u001b[0m \u001b[0masanyarray\u001b[0m\u001b[0;34m(\u001b[0m\u001b[0mfunc1d\u001b[0m\u001b[0;34m(\u001b[0m\u001b[0minarr_view\u001b[0m\u001b[0;34m[\u001b[0m\u001b[0mind0\u001b[0m\u001b[0;34m]\u001b[0m\u001b[0;34m,\u001b[0m \u001b[0;34m*\u001b[0m\u001b[0margs\u001b[0m\u001b[0;34m,\u001b[0m \u001b[0;34m**\u001b[0m\u001b[0mkwargs\u001b[0m\u001b[0;34m)\u001b[0m\u001b[0;34m)\u001b[0m\u001b[0;34m\u001b[0m\u001b[0;34m\u001b[0m\u001b[0m\n\u001b[0m\u001b[1;32m    380\u001b[0m \u001b[0;34m\u001b[0m\u001b[0m\n\u001b[1;32m    381\u001b[0m     \u001b[0;31m# build a buffer for storing evaluations of func1d.\u001b[0m\u001b[0;34m\u001b[0m\u001b[0;34m\u001b[0m\u001b[0;34m\u001b[0m\u001b[0m\n",
      "\u001b[0;32m~/Documents/JUAN/Uni_Heidelberg/MachineLearning/FML_Worksheet06/regression_tree.py\u001b[0m in \u001b[0;36mpredict\u001b[0;34m(self, X)\u001b[0m\n\u001b[1;32m    130\u001b[0m             \u001b[0;32mreturn\u001b[0m \u001b[0mleaf\u001b[0m\u001b[0;34m.\u001b[0m\u001b[0mresponse\u001b[0m\u001b[0;34m\u001b[0m\u001b[0;34m\u001b[0m\u001b[0m\n\u001b[1;32m    131\u001b[0m         \u001b[0;32melse\u001b[0m\u001b[0;34m:\u001b[0m\u001b[0;34m\u001b[0m\u001b[0;34m\u001b[0m\u001b[0m\n\u001b[0;32m--> 132\u001b[0;31m             \u001b[0mpred\u001b[0m \u001b[0;34m=\u001b[0m \u001b[0mnp\u001b[0m\u001b[0;34m.\u001b[0m\u001b[0mapply_along_axis\u001b[0m\u001b[0;34m(\u001b[0m\u001b[0mself\u001b[0m\u001b[0;34m.\u001b[0m\u001b[0mpredict\u001b[0m\u001b[0;34m,\u001b[0m \u001b[0maxis\u001b[0m\u001b[0;34m=\u001b[0m\u001b[0;36m1\u001b[0m\u001b[0;34m,\u001b[0m \u001b[0marr\u001b[0m\u001b[0;34m=\u001b[0m\u001b[0mX\u001b[0m\u001b[0;34m)\u001b[0m\u001b[0;34m\u001b[0m\u001b[0;34m\u001b[0m\u001b[0m\n\u001b[0m\u001b[1;32m    133\u001b[0m             \u001b[0;32mreturn\u001b[0m \u001b[0mpred\u001b[0m\u001b[0;34m\u001b[0m\u001b[0;34m\u001b[0m\u001b[0m\n",
      "\u001b[0;32m<__array_function__ internals>\u001b[0m in \u001b[0;36mapply_along_axis\u001b[0;34m(*args, **kwargs)\u001b[0m\n",
      "\u001b[0;32m/Library/Frameworks/Python.framework/Versions/3.8/lib/python3.8/site-packages/numpy/lib/shape_base.py\u001b[0m in \u001b[0;36mapply_along_axis\u001b[0;34m(func1d, axis, arr, *args, **kwargs)\u001b[0m\n\u001b[1;32m    359\u001b[0m     \u001b[0marr\u001b[0m \u001b[0;34m=\u001b[0m \u001b[0masanyarray\u001b[0m\u001b[0;34m(\u001b[0m\u001b[0marr\u001b[0m\u001b[0;34m)\u001b[0m\u001b[0;34m\u001b[0m\u001b[0;34m\u001b[0m\u001b[0m\n\u001b[1;32m    360\u001b[0m     \u001b[0mnd\u001b[0m \u001b[0;34m=\u001b[0m \u001b[0marr\u001b[0m\u001b[0;34m.\u001b[0m\u001b[0mndim\u001b[0m\u001b[0;34m\u001b[0m\u001b[0;34m\u001b[0m\u001b[0m\n\u001b[0;32m--> 361\u001b[0;31m     \u001b[0maxis\u001b[0m \u001b[0;34m=\u001b[0m \u001b[0mnormalize_axis_index\u001b[0m\u001b[0;34m(\u001b[0m\u001b[0maxis\u001b[0m\u001b[0;34m,\u001b[0m \u001b[0mnd\u001b[0m\u001b[0;34m)\u001b[0m\u001b[0;34m\u001b[0m\u001b[0;34m\u001b[0m\u001b[0m\n\u001b[0m\u001b[1;32m    362\u001b[0m \u001b[0;34m\u001b[0m\u001b[0m\n\u001b[1;32m    363\u001b[0m     \u001b[0;31m# arr, with the iteration axis at the end\u001b[0m\u001b[0;34m\u001b[0m\u001b[0;34m\u001b[0m\u001b[0;34m\u001b[0m\u001b[0m\n",
      "\u001b[0;31mAxisError\u001b[0m: axis 1 is out of bounds for array of dimension 1"
     ]
    }
   ],
   "source": [
    "k = 10\n",
    "for model in (linear_regression, regression_tree):\n",
    "    print(\"Running: \", model)\n",
    "    for feats_str in (\"X_oc\", \"X_on\", \"X_oc_\"):\n",
    "        print(\"Dataset: %s\" % feats_str)\n",
    "        feats = eval(\"data_set.get_\" + feats_str + \"()\")\n",
    "        targets = data_set.targets\n",
    "        assert feats.shape[0] == targets.shape[0]     \n",
    "        err_train, std_err_train, err_test, std_err_test = k_fold_cv(model, feats, targets, k)\n",
    "        print('test_err: %.2E' % err_test)\n",
    "print(\"Done.\")"
   ]
  },
  {
   "cell_type": "code",
   "execution_count": null,
   "id": "beautiful-dynamics",
   "metadata": {},
   "outputs": [],
   "source": []
  }
 ],
 "metadata": {
  "kernelspec": {
   "display_name": "Python 3",
   "language": "python",
   "name": "python3"
  },
  "language_info": {
   "codemirror_mode": {
    "name": "ipython",
    "version": 3
   },
   "file_extension": ".py",
   "mimetype": "text/x-python",
   "name": "python",
   "nbconvert_exporter": "python",
   "pygments_lexer": "ipython3",
   "version": "3.8.2"
  }
 },
 "nbformat": 4,
 "nbformat_minor": 5
}
