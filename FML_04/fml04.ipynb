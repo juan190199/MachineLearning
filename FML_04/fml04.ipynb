{
 "cells": [
  {
   "cell_type": "markdown",
   "id": "prompt-virtue",
   "metadata": {},
   "source": [
    "## FML 04\n",
    "***"
   ]
  },
  {
   "cell_type": "markdown",
   "id": "silent-policy",
   "metadata": {},
   "source": [
    "**LDA derivation from the Least Squares Error**\n",
    "\n",
    "Setting the derivatives of $\\sum_{i=1}^n\\left(w^Tx_i+b-y_i\\right)^2$ wrt. $b, w$ to zero, we obtain\n",
    "\n",
    "\\begin{equation} \\label{eq:1}\n",
    "    \\frac{\\partial}{\\partial b}\\sum_{i=1}^n\\left(w^Tx_i+b-y_i\\right)^2 = 2\\sum_{i=1}^n\\left(w^Tx_i+b-y_i\\right) \\stackrel{!}{=} 0\n",
    "\\end{equation}\n",
    "\\begin{equation} \\label{eq:2}\n",
    "    \\frac{\\partial}{\\partial w}\\sum_{i=1}^n\\left(w^Tx_i+b-y_i\\right)^2 = 2\\sum_{i=1}^n\\left(w^Tx_i+b-y_i\\right)x_i \\stackrel{!}{=} 0\n",
    "\\end{equation}\n",
    "\n",
    "Since we shall take the targets for class $k=1$ to be $n/n_1$, where $n_1$ is the number of instances in class $k=1$, and $n$ the total number of instances. For class $k=2$, we shall take the targets to be $-n/n_2$, where where $n_2$ is the number of instances in class $k=2$. From equation \\ref{eq:1} we obtain an expression for the bias in the form\n",
    "\n",
    "\\begin{equation}\n",
    "    b = -w^T\\mu\n",
    "\\end{equation}\n",
    "\n",
    "where we have used\n",
    "\n",
    "\\begin{equation}\n",
    "    \\sum_{i=1}^ny_i = n_1 \\frac{n}{n_1}-n_2 \\frac{n}{n_2}=0\n",
    "\\end{equation}\n",
    "\n",
    "and where $\\mu$ is the mean of the total data set and is given by\n",
    "\n",
    "\\begin{equation}\n",
    "    \\mu = \\frac{1}{n}\\sum_{i=1}^n x_i = \\frac{1}{n}\\left(n_1\\mu_1 + n_2\\mu_2  \\right)\n",
    "\\end{equation}\n",
    "\n",
    "By expanding the second equation\n",
    "\n",
    "\\begin{equation}\n",
    "    \\begin{aligned}\n",
    "        &\\sum_{i=1}^n w^Tx_ix_i + b \\sum_{i=1}^nx_i - \\sum_{i=1}^n y_ix_i \\\\\n",
    "        &= \\sum_{i=1}^n x_ix_i^Tw - w^T\\mu \\sum_{i=1}^nx_i - \\left(\\sum_{i \\in k=1} y_ix_i +  \\sum_{i \\in k=2} y_ix_i \\right) \\\\\n",
    "        &= \\sum_{i=1}^n x_ix_i^Tw - w^T\\mu \\left(n\\mu\\right) - \\left(\\sum_{i \\in k=1} \\frac{n}{n_1}x_i -  \\sum_{i \\in k=2} \\frac{-n}{n_2}x_i \\right) \\\\\n",
    "        &= \\sum_{i=1}^n x_ix_i^Tw - nw^T\\mu\\mu - n\\left(\\sum_{i \\in k=1} \\frac{1}{n_1}x_i -  \\sum_{i \\in k=2} \\frac{-1}{n_2}x_i \\right) \\\\\n",
    "        &= \\sum_{i=1}^n x_ix_i^Tw - nw^T\\mu\\mu - n\\left(\\mu_1 - \\mu_2\\right) \\\\\n",
    "        &= \\left[\\sum_{i=1}^n \\left(x_ix_i^T\\right)-n\\mu\\mu^T\\right]w - n\\left(\\mu_1 - \\mu_2\\right) \\\\\n",
    "    \\end{aligned}\n",
    "\\end{equation}\n",
    "\n",
    "If we let the derivative equal to zero, we will see that:\n",
    "\n",
    "\\begin{equation}\n",
    "    \\left[\\sum_{i=1}^n \\left(x_ix_i^T\\right)-n\\mu\\mu^T\\right]w = n\\left(\\mu_1 - \\mu_2\\right)\n",
    "\\end{equation}\n",
    "Therefore, now we need to prove:\n",
    "\\begin{equation}\n",
    "    \\sum_{i=1}^n \\left(x_ix_i^T\\right)-n\\mu\\mu^T = S_W + \\frac{n_1n_2}{n} S_B\n",
    "\\end{equation}\n",
    "\n",
    "Let's expand the left side of the equation above:\n",
    "\n",
    "\\begin{equation}\n",
    "    \\begin{aligned}\n",
    "        &\\sum_{i=1}^n x_ix_i^T - n\\left(\\frac{n_1}{n}\\mu_1+\\frac{n_2}{n}\\mu_2\\right)^2 \\\\\n",
    "        &= \\sum_{i=1}^n x_ix_i^T - n\\left(\\frac{n_1^2}{n^2}||\\mu_1||^2 + \\frac{n_2^2}{n^2}||\\mu_2||^2 + 2 \\frac{n_1n_2}{n^2}\\mu_1\\mu_2^T\\right) \\\\\n",
    "        &= \\sum_{i=1}^n x_ix_i^T - \\frac{n_1^2}{n}||\\mu_1||^2 - \\frac{n_2^2}{n}||\\mu_2||^2 - 2 \\frac{n_1n_2}{n}\\mu_1\\mu_2^T \\\\\n",
    "        &\\begin{aligned}\n",
    "            =&\\sum_{i=1}^n x_ix_i^T + \\left(n_1 + \\frac{n_1n_2}{n}-2n_1\\right)||\\mu_1||^2 \\\\\n",
    "            &+ \\left(n_2 + \\frac{n_1n_2}{n}-2n_2\\right)||\\mu_2||^2 - 2\\frac{n_1n_2}{n}\\mu_1\\mu_2^T\n",
    "        \\end{aligned} \\\\\n",
    "        &= \\sum_{i=1}^n x_ix_i^T + \\left(n_1 - 2n_1\\right)||\\mu_1||^2 + \\left(n_2 - 2n_2\\right)||\\mu_2||^2 + \\frac{n_1n_2}{n}||\\mu_1-\\mu_2||^2 \\\\\n",
    "        &= \\sum_{i=1}^n x_ix_i^T + n_1 ||\\mu_1||^2 - 2\\mu_1\\left(n_1\\mu_1^T\\right) + n_2 ||\\mu_2||^2 - 2\\mu_2\\left(n_2\\mu_2^T\\right) + \\frac{n_1n_2}{n}S_B \\\\\n",
    "        &= \\sum_{i=1}^n x_ix_i^T + n_1 ||\\mu_1||^2 - 2\\mu_1\\sum_{i \\in k=1}x_i^T + n_2 ||\\mu_2||^2 - 2\\mu_2\\sum_{i \\in k=2}x_i^T + \\frac{n_1n_2}{n}S_B \\\\\n",
    "        &\\begin{aligned}\n",
    "            =&\\sum_{i \\in k=1} x_ix_i^T + n_1 ||\\mu_1||^2 - 2\\mu_1\\sum_{i \\in k=1}x_i^T \\\\\n",
    "            &+ \\sum_{i \\in k=2} x_ix_i^T + n_2 ||\\mu_2||^2 - 2\\mu_2\\sum_{i \\in k=2}x_i^T  + \\frac{n_1n_2}{n}S_B\n",
    "        \\end{aligned} \\\\\n",
    "        &= \\sum_{i \\in k=1} \\left(x_ix_i^T +||\\mu_1||^2-2\\mu_1x_i^T\\right) + \\sum_{i \\in k=2} \\left(x_ix_i^T +||\\mu_2||^2-2\\mu_2x_i^T\\right) + \\frac{n_1n_2}{n}S_B \\\\\n",
    "        &= \\sum_{i \\in k=1} ||x_i - \\mu_1||^2 + \\sum_{i \\in k=2} ||x_i - \\mu_2||^2 + \\frac{n_1n_2}{n}S_B \\\\\n",
    "        &= S_W + \\frac{n_1n_2}{n}S_B\n",
    "    \\end{aligned}\n",
    "\\end{equation}\n",
    "\n",
    "Using, the definition of $S_B$, we note that $S_Bw$ is always in the direction of $\\left(\\mu_2-\\mu_1\\right)$. Thus we can write\n",
    "\n",
    "\\begin{equation}\n",
    "    w \\ \\propto\\ S_W^{-1}\\left(\\mu_2-\\mu_1\\right)\n",
    "\\end{equation}"
   ]
  },
  {
   "cell_type": "code",
   "execution_count": 28,
   "id": "expired-specific",
   "metadata": {},
   "outputs": [
    {
     "name": "stdout",
     "output_type": "stream",
     "text": [
      "The autoreload extension is already loaded. To reload it, use:\n",
      "  %reload_ext autoreload\n"
     ]
    }
   ],
   "source": [
    "from sklearn.datasets import load_digits\n",
    "\n",
    "import numpy as np\n",
    "\n",
    "from viz import plot_gen_data\n",
    "\n",
    "from data_preparation import data_filtering\n",
    "from qda import QuadraticDiscriminantAnalysis\n",
    "\n",
    "%load_ext autoreload\n",
    "%autoreload 2"
   ]
  },
  {
   "cell_type": "markdown",
   "id": "alleged-helicopter",
   "metadata": {},
   "source": [
    "### Data Generation with QDA"
   ]
  },
  {
   "cell_type": "code",
   "execution_count": 29,
   "id": "burning-piano",
   "metadata": {},
   "outputs": [],
   "source": [
    "# Load data\n",
    "digits = load_digits()\n",
    "filt = [1, 7]\n",
    "# filt = None\n",
    "\n",
    "X_train, X_test, y_train, y_test = data_filtering(digits, test_percentage=0.5, filter=filt)\n",
    "\n",
    "# Instantiate model\n",
    "qda = QuadraticDiscriminantAnalysis(store_covariance=True)\n",
    "qda.fit(X_train=X_train, y_train=y_train)\n",
    "\n",
    "means = qda.means_\n",
    "covariances = qda.covariance_"
   ]
  },
  {
   "cell_type": "markdown",
   "id": "differential-court",
   "metadata": {},
   "source": [
    "### Visualization generated images"
   ]
  },
  {
   "cell_type": "code",
   "execution_count": 30,
   "id": "disabled-student",
   "metadata": {
    "scrolled": true
   },
   "outputs": [
    {
     "data": {
      "image/png": "[encoded data removed]",
      "text/plain": [
       "<Figure size 1080x360 with 10 Axes>"
      ]
     },
     "metadata": {},
     "output_type": "display_data"
    }
   ],
   "source": [
    "plot_gen_data(filt, means, covariances)"
   ]
  },
  {
   "cell_type": "code",
   "execution_count": null,
   "id": "legal-light",
   "metadata": {},
   "outputs": [],
   "source": []
  }
 ],
 "metadata": {
  "kernelspec": {
   "display_name": "Python 3",
   "language": "python",
   "name": "python3"
  },
  "language_info": {
   "codemirror_mode": {
    "name": "ipython",
    "version": 3
   },
   "file_extension": ".py",
   "mimetype": "text/x-python",
   "name": "python",
   "nbconvert_exporter": "python",
   "pygments_lexer": "ipython3",
   "version": "3.8.2"
  }
 },
 "nbformat": 4,
 "nbformat_minor": 5
}
