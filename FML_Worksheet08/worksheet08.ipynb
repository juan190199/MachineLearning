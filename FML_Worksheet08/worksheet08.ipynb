{
 "cells": [
  {
   "cell_type": "markdown",
   "id": "involved-florence",
   "metadata": {},
   "source": [
    "## Worksheet 08\n",
    "***"
   ]
  },
  {
   "cell_type": "code",
   "execution_count": 3,
   "id": "cardiac-oliver",
   "metadata": {},
   "outputs": [],
   "source": [
    "from sklearn.datasets import load_digits \n",
    "from sklearn.model_selection import train_test_split\n",
    "\n",
    "import numpy as np\n",
    "from numpy.linalg import lstsq\n",
    "from scipy.sparse.linalg import lsqr\n",
    "from scipy.sparse import dok_matrix, coo_matrix, vstack, eye\n",
    "from scipy.ndimage.filters import gaussian_filter\n",
    "from sklearn.utils import shuffle\n",
    "\n",
    "%matplotlib inline\n",
    "import matplotlib.pyplot as plt\n",
    "\n",
    "import pandas as pd\n",
    "pd.options.display.float_format = '{:,.2f}'.format\n",
    "def fade_zeros(s):\n",
    "    return ['color: lightgray' if v else 'color: black' for v in (0 == s)]\n",
    "from IPython.display import display\n",
    "\n",
    "%load_ext autoreload\n",
    "%autoreload 2"
   ]
  },
  {
   "cell_type": "markdown",
   "id": "laden-switzerland",
   "metadata": {},
   "source": [
    "### Bias and Variance of Ridge Regression"
   ]
  },
  {
   "cell_type": "markdown",
   "id": "black-bulgaria",
   "metadata": {},
   "source": []
  },
  {
   "cell_type": "markdown",
   "id": "casual-evening",
   "metadata": {},
   "source": [
    "### Denoising of a CT image"
   ]
  },
  {
   "cell_type": "code",
   "execution_count": null,
   "id": "coordinate-exclusive",
   "metadata": {},
   "outputs": [],
   "source": []
  }
 ],
 "metadata": {
  "kernelspec": {
   "display_name": "Python 3",
   "language": "python",
   "name": "python3"
  },
  "language_info": {
   "codemirror_mode": {
    "name": "ipython",
    "version": 3
   },
   "file_extension": ".py",
   "mimetype": "text/x-python",
   "name": "python",
   "nbconvert_exporter": "python",
   "pygments_lexer": "ipython3",
   "version": "3.8.2"
  }
 },
 "nbformat": 4,
 "nbformat_minor": 5
}
