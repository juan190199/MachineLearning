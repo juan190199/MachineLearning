{
 "cells": [
  {
   "cell_type": "markdown",
   "id": "maritime-model",
   "metadata": {},
   "source": [
    "## Worksheet 08\n",
    "***"
   ]
  },
  {
   "cell_type": "code",
   "execution_count": 1,
   "id": "superior-republic",
   "metadata": {},
   "outputs": [],
   "source": [
    "from sklearn.datasets import load_digits \n",
    "from sklearn.model_selection import train_test_split\n",
    "\n",
    "import numpy as np\n",
    "from scipy.sparse.linalg import lsqr\n",
    "from scipy.sparse import dok_matrix, coo_matrix, vstack, eye\n",
    "from scipy.ndimage.filters import gaussian_filter\n",
    "from sklearn.utils import shuffle\n",
    "\n",
    "from utils import orthogonal_matching_pursuit\n",
    "from data_preparation import data_preparation\n",
    "from viz import plot_data\n",
    "\n",
    "import pandas as pd\n",
    "pd.options.display.float_format = '{:,.2f}'.format\n",
    "def fade_zeros(s):\n",
    "    return ['color: lightgray' if v else 'color: black' for v in (0 == s)]\n",
    "from IPython.display import display\n",
    "\n",
    "%load_ext autoreload\n",
    "%autoreload 2"
   ]
  },
  {
   "cell_type": "markdown",
   "id": "absolute-sigma",
   "metadata": {},
   "source": [
    "### Denoising a CT image"
   ]
  },
  {
   "cell_type": "code",
   "execution_count": 2,
   "id": "settled-desire",
   "metadata": {},
   "outputs": [],
   "source": [
    "def construct_X(M, alphas, Np=None, lmbda=0):\n",
    "    \"\"\"\n",
    "    Construct design matrix X\n",
    "    : param M: int \n",
    "        Tomogram is an array-like of shape (M, M)\n",
    "    \n",
    "    : param alphas: Array-like of shape (n_alphas, )\n",
    "        List of measurement angles in degrees\n",
    "        \n",
    "    : param Np: Default=None\n",
    "        Optional sensor resolution\n",
    "    \"\"\"\n",
    "    # Define sensor size\n",
    "    if Np is None:\n",
    "        Np = int(np.ceil(np.sqrt(2) * M))\n",
    "        if Np % 2 == 0:\n",
    "            Np += 1\n",
    "    # Number of angles\n",
    "    No = len(alphas)\n",
    "    # Define design matrix X\n",
    "    D_beta = M * M\n",
    "    D_y = No * Np\n",
    "    \n",
    "    # Flattened output coordinates\n",
    "    j = np.mgrid[0 : D_beta].astype(np.int32)\n",
    "    # Coordinate matrix for the output pixels\n",
    "    C = (M - 1) / 2  # Center matrix\n",
    "    grid = np.mgrid[-C : M - C, -C : M - C].swapaxes(1, 2).reshape(2, D_beta)\n",
    "    \n",
    "    # Collect indices and corresponding values for all iterations\n",
    "    i_idx = []\n",
    "    j_idx = []\n",
    "    weights = []\n",
    "\n",
    "    for k, alpha in enumerate(alphas):\n",
    "        # Covert angle and projection vector    \n",
    "        alph_rad = np.radians(alpha)\n",
    "        proj_vec = np.array([np.cos(alph_rad), -np.sin(alph_rad)])\n",
    "        # Project coordinates and adjust coordinates to sensor\n",
    "        proj = np.dot(proj_vec, grid) + Np // 2\n",
    "        # Compute sensor indices and weights below the projected points\n",
    "        i = np.floor(proj)\n",
    "        w = (i + 1) - proj\n",
    "        # Rays falling outside the sensor are not counted\n",
    "        clip = np.logical_and(0 <= i, i < Np-1)\n",
    "        \n",
    "        i_idx.append((i + k * Np)[clip])\n",
    "        j_idx.append(j[clip])\n",
    "        weights.append(w[clip])\n",
    "        # Compute sensor indices and weights above the projected points\n",
    "        w = proj - i\n",
    "        i_idx.append((i + 1 + k * Np)[clip])\n",
    "        j_idx.append(j[clip])\n",
    "        weights.append(w[clip])\n",
    "        \n",
    "    # Construct matrix X\n",
    "    i = np.concatenate(i_idx).astype(np.int32)\n",
    "    j = np.concatenate(j_idx).astype(np.int32)\n",
    "    w = np.concatenate(weights)\n",
    "    X = coo_matrix((w, (i, j)), shape=(D_y, D_beta), dtype=np.float32)\n",
    "    \n",
    "    if lmbda > 0:\n",
    "        reg = np.sqrt(lmbda) * eye(D_beta)\n",
    "        X = vstack([X, reg])\n",
    "        \n",
    "    return X"
   ]
  },
  {
   "cell_type": "code",
   "execution_count": 3,
   "id": "worse-russell",
   "metadata": {},
   "outputs": [],
   "source": [
    "# Reconstruct tomogram from 64 angles and variations of lambda\n",
    "M = 195\n",
    "Np = 275\n",
    "y = np.load('hs_tomography/y_195.npy')\n",
    "alphas = np.load('hs_tomography/alphas_195.npy')\n",
    "\n",
    "# Reconstruct for 64 angles\n",
    "idx = [int(np.ceil(len(alphas) * p/64)) for p in range(64)]\n",
    "alphas_sub = alphas[idx]\n",
    "y_sub = []\n",
    "for j in idx:\n",
    "    y_sub.extend(y[j * Np : (j + 1) * Np])\n",
    "y_sub = np.asarray(y_sub)\n",
    "\n",
    "# Extend y vector with zeros\n",
    "y_sub_lmbda = np.hstack((y_sub, np.zeros(M ** 2)))\n",
    "\n",
    "lmbda = list(10 ** i for i in range(0, 5))\n",
    "lmbda.insert(0, 0)"
   ]
  },
  {
   "cell_type": "code",
   "execution_count": 4,
   "id": "selected-casting",
   "metadata": {
    "scrolled": true
   },
   "outputs": [
    {
     "ename": "NameError",
     "evalue": "name 'plt' is not defined",
     "output_type": "error",
     "traceback": [
      "\u001b[0;31m---------------------------------------------------------------------------\u001b[0m",
      "\u001b[0;31mNameError\u001b[0m                                 Traceback (most recent call last)",
      "\u001b[0;32m<ipython-input-4-3ae0aff8fdf1>\u001b[0m in \u001b[0;36m<module>\u001b[0;34m\u001b[0m\n\u001b[0;32m----> 1\u001b[0;31m \u001b[0mfig\u001b[0m\u001b[0;34m,\u001b[0m \u001b[0max\u001b[0m \u001b[0;34m=\u001b[0m \u001b[0mplt\u001b[0m\u001b[0;34m.\u001b[0m\u001b[0msubplots\u001b[0m\u001b[0;34m(\u001b[0m\u001b[0;36m3\u001b[0m\u001b[0;34m,\u001b[0m \u001b[0;36m2\u001b[0m\u001b[0;34m,\u001b[0m \u001b[0mfigsize\u001b[0m\u001b[0;34m=\u001b[0m\u001b[0;34m(\u001b[0m\u001b[0;36m16\u001b[0m\u001b[0;34m,\u001b[0m \u001b[0;36m16\u001b[0m\u001b[0;34m)\u001b[0m\u001b[0;34m)\u001b[0m\u001b[0;34m\u001b[0m\u001b[0;34m\u001b[0m\u001b[0m\n\u001b[0m\u001b[1;32m      2\u001b[0m \u001b[0;32mfor\u001b[0m \u001b[0mi\u001b[0m \u001b[0;32min\u001b[0m \u001b[0mrange\u001b[0m\u001b[0;34m(\u001b[0m\u001b[0mlen\u001b[0m\u001b[0;34m(\u001b[0m\u001b[0mlmbda\u001b[0m\u001b[0;34m)\u001b[0m\u001b[0;34m)\u001b[0m\u001b[0;34m:\u001b[0m\u001b[0;34m\u001b[0m\u001b[0;34m\u001b[0m\u001b[0m\n\u001b[1;32m      3\u001b[0m     \u001b[0mX\u001b[0m \u001b[0;34m=\u001b[0m \u001b[0mconstruct_X\u001b[0m\u001b[0;34m(\u001b[0m\u001b[0mM\u001b[0m\u001b[0;34m,\u001b[0m \u001b[0malphas_sub\u001b[0m\u001b[0;34m,\u001b[0m \u001b[0mNp\u001b[0m\u001b[0;34m,\u001b[0m \u001b[0mlmbda\u001b[0m\u001b[0;34m=\u001b[0m\u001b[0mlmbda\u001b[0m\u001b[0;34m[\u001b[0m\u001b[0mi\u001b[0m\u001b[0;34m]\u001b[0m\u001b[0;34m)\u001b[0m\u001b[0;34m.\u001b[0m\u001b[0mtocsc\u001b[0m\u001b[0;34m(\u001b[0m\u001b[0;34m)\u001b[0m\u001b[0;34m\u001b[0m\u001b[0;34m\u001b[0m\u001b[0m\n\u001b[1;32m      4\u001b[0m     \u001b[0mtheta\u001b[0m \u001b[0;34m=\u001b[0m \u001b[0mlsqr\u001b[0m\u001b[0;34m(\u001b[0m\u001b[0mX\u001b[0m\u001b[0;34m,\u001b[0m \u001b[0my_sub\u001b[0m \u001b[0;32mif\u001b[0m \u001b[0mlmbda\u001b[0m\u001b[0;34m[\u001b[0m\u001b[0mi\u001b[0m\u001b[0;34m]\u001b[0m \u001b[0;34m==\u001b[0m \u001b[0;36m0\u001b[0m \u001b[0;32melse\u001b[0m \u001b[0my_sub_lmbda\u001b[0m\u001b[0;34m,\u001b[0m \u001b[0matol\u001b[0m\u001b[0;34m=\u001b[0m\u001b[0;36m1e-5\u001b[0m\u001b[0;34m,\u001b[0m \u001b[0mbtol\u001b[0m\u001b[0;34m=\u001b[0m\u001b[0;36m1e-5\u001b[0m\u001b[0;34m)\u001b[0m\u001b[0;34m[\u001b[0m\u001b[0;36m0\u001b[0m\u001b[0;34m]\u001b[0m\u001b[0;34m.\u001b[0m\u001b[0mreshape\u001b[0m\u001b[0;34m(\u001b[0m\u001b[0;36m195\u001b[0m\u001b[0;34m,\u001b[0m \u001b[0;36m195\u001b[0m\u001b[0;34m)\u001b[0m\u001b[0;34m\u001b[0m\u001b[0;34m\u001b[0m\u001b[0m\n\u001b[1;32m      5\u001b[0m     \u001b[0max\u001b[0m\u001b[0;34m.\u001b[0m\u001b[0mflat\u001b[0m\u001b[0;34m[\u001b[0m\u001b[0mi\u001b[0m\u001b[0;34m]\u001b[0m\u001b[0;34m.\u001b[0m\u001b[0mimshow\u001b[0m\u001b[0;34m(\u001b[0m\u001b[0mtheta\u001b[0m\u001b[0;34m,\u001b[0m \u001b[0mvmin\u001b[0m\u001b[0;34m=\u001b[0m\u001b[0;36m0\u001b[0m\u001b[0;34m,\u001b[0m \u001b[0mvmax\u001b[0m\u001b[0;34m=\u001b[0m\u001b[0;36m255\u001b[0m\u001b[0;34m,\u001b[0m \u001b[0minterpolation\u001b[0m\u001b[0;34m=\u001b[0m\u001b[0;34m'nearest'\u001b[0m\u001b[0;34m,\u001b[0m \u001b[0mcmap\u001b[0m\u001b[0;34m=\u001b[0m\u001b[0;34m'bone'\u001b[0m\u001b[0;34m)\u001b[0m\u001b[0;34m\u001b[0m\u001b[0;34m\u001b[0m\u001b[0m\n",
      "\u001b[0;31mNameError\u001b[0m: name 'plt' is not defined"
     ]
    }
   ],
   "source": [
    "fig, ax = plt.subplots(3, 2, figsize=(16, 16))\n",
    "for i in range(len(lmbda)):\n",
    "    X = construct_X(M, alphas_sub, Np, lmbda=lmbda[i]).tocsc()\n",
    "    theta = lsqr(X, y_sub if lmbda[i] == 0 else y_sub_lmbda, atol=1e-5, btol=1e-5)[0].reshape(195, 195)\n",
    "    ax.flat[i].imshow(theta, vmin=0, vmax=255, interpolation='nearest', cmap='bone')\n",
    "    ax.flat[i].set_title('λ = {}'.format(lmbda[i]))\n",
    "    ax.flat[i].axis('off')\n",
    "    print('λ = {}, shape of X = {}, mean GV = {}'.format(str(lmbda[i]).rjust(5), X.shape, str(round(np.mean(theta), 5)).rjust(9)))\n",
    "\n",
    "fig.tight_layout()\n",
    "plt.show()"
   ]
  },
  {
   "cell_type": "code",
   "execution_count": null,
   "id": "headed-discussion",
   "metadata": {},
   "outputs": [],
   "source": [
    "# Comparison with Gaussian filter of different std. deviations\n",
    "X = construct_X(M, alphas_sub, Np, lmbda=0).tocsc()\n",
    "theta = lsqr(X, y_sub, atol=1e-5, btol=1e-5)[0].reshape(195, 195)\n",
    "\n",
    "sigma = [0, 1, 2, 3, 5, 7]"
   ]
  },
  {
   "cell_type": "code",
   "execution_count": null,
   "id": "protective-logan",
   "metadata": {
    "scrolled": true
   },
   "outputs": [],
   "source": [
    "fig, axes = plt.subplots(3, 2, figsize=(16,16))\n",
    "for i in range(len(sigma)):\n",
    "    theta_smooth = gaussian_filter(theta, sigma[i])\n",
    "    axes.flat[i].imshow(theta_smooth, vmin=0, vmax=255, interpolation='nearest', cmap='bone')\n",
    "    axes.flat[i].set_title('σ = {}'.format(sigma[i]))\n",
    "    axes.flat[i].axis('off')\n",
    "    #print(np.mean(beta_smooth))\n",
    "fig.tight_layout()\n",
    "plt.show()"
   ]
  },
  {
   "cell_type": "markdown",
   "id": "figured-worker",
   "metadata": {},
   "source": [
    "### Feature selection"
   ]
  },
  {
   "cell_type": "code",
   "execution_count": null,
   "id": "mechanical-reality",
   "metadata": {},
   "outputs": [],
   "source": [
    "digits = load_digits()\n",
    "X_train, X_train_std, X_test, X_test_std, y_train, y_test = data_preparation(digits, [1, 7])"
   ]
  },
  {
   "cell_type": "code",
   "execution_count": null,
   "id": "lucky-daughter",
   "metadata": {},
   "outputs": [],
   "source": [
    "plot_data(X_train, X_train_std, y_train)"
   ]
  }
 ],
 "metadata": {
  "kernelspec": {
   "display_name": "Python 3",
   "language": "python",
   "name": "python3"
  },
  "language_info": {
   "codemirror_mode": {
    "name": "ipython",
    "version": 3
   },
   "file_extension": ".py",
   "mimetype": "text/x-python",
   "name": "python",
   "nbconvert_exporter": "python",
   "pygments_lexer": "ipython3",
   "version": "3.8.2"
  }
 },
 "nbformat": 4,
 "nbformat_minor": 5
}
