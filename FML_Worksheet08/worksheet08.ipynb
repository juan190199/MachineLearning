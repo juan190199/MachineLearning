{
 "cells": [
  {
   "cell_type": "markdown",
   "id": "ignored-customs",
   "metadata": {},
   "source": [
    "## Worksheet 08\n",
    "***"
   ]
  },
  {
   "cell_type": "code",
   "execution_count": 3,
   "id": "grateful-drawing",
   "metadata": {},
   "outputs": [],
   "source": [
    "from sklearn.datasets import load_digits \n",
    "from sklearn.model_selection import train_test_split\n",
    "\n",
    "import numpy as np\n",
    "from numpy.linalg import lstsq\n",
    "from scipy.sparse.linalg import lsqr\n",
    "from scipy.sparse import dok_matrix, coo_matrix, vstack, eye\n",
    "from scipy.ndimage.filters import gaussian_filter\n",
    "from sklearn.utils import shuffle\n",
    "\n",
    "%matplotlib inline\n",
    "import matplotlib.pyplot as plt\n",
    "\n",
    "import pandas as pd\n",
    "pd.options.display.float_format = '{:,.2f}'.format\n",
    "def fade_zeros(s):\n",
    "    return ['color: lightgray' if v else 'color: black' for v in (0 == s)]\n",
    "from IPython.display import display\n",
    "\n",
    "%load_ext autoreload\n",
    "%autoreload 2"
   ]
  },
  {
   "cell_type": "markdown",
   "id": "advised-package",
   "metadata": {},
   "source": [
    "### Denoising a CT image"
   ]
  },
  {
   "cell_type": "code",
   "execution_count": 4,
   "id": "continuous-white",
   "metadata": {},
   "outputs": [],
   "source": [
    "def construct_X(M, alphas, Np=None, lmbda=0):\n",
    "    \"\"\"\n",
    "    Construct design matrix X\n",
    "    : param M: int \n",
    "        Tomogram is an array-like of shape (M, M)\n",
    "    \n",
    "    : param alphas: Array-like of shape (n_alphas, )\n",
    "        List of measurement angles in degrees\n",
    "        \n",
    "    : param Np: Default=None\n",
    "        Optional sensor resolution\n",
    "    \"\"\"\n",
    "    # Define sensor size\n",
    "    if Np is None:\n",
    "        Np = int(np.ceil(np.sqrt(2) * M))\n",
    "        if Np % 2 == 0:\n",
    "            Np += 1\n",
    "    # Number of angles\n",
    "    No = len(alphas)\n",
    "    # Define design matrix X\n",
    "    D_beta = M * M\n",
    "    D_y = No * Np\n",
    "    \n",
    "    # Flattened output coordinates\n",
    "    j = np.mgrid[0 : D_beta].astype(np.int32)\n",
    "    # Coordinate matrix for the output pixels\n",
    "    C = (M - 1) / 2  # Center matrix\n",
    "    grid = np.mgrid[-C : M - C, -C : M - C].swapaxes(1, 2).reshape(2, D_beta)\n",
    "    \n",
    "    # Collect indices and corresponding values for all iterations\n",
    "    i_idx = []\n",
    "    j_idx = []\n",
    "    weights = []\n",
    "\n",
    "    for k, alpha in enumerate(alphas):\n",
    "        # Covert angle and projection vector    \n",
    "        alph_rad = np.radians(alpha)\n",
    "        proj_vec = np.array([np.cos(alph_rad), -np.sin(alph_rad)])\n",
    "        # Project coordinates and adjust coordinates to sensor\n",
    "        proj = np.dot(proj_vec, grid) + Np // 2\n",
    "        # Compute sensor indices and weights below the projected points\n",
    "        i = np.floor(proj)\n",
    "        w = (i + 1) - proj\n",
    "        # Rays falling outside the sensor are not counted\n",
    "        clip = np.logical_and(0 <= i, i < Np-1)\n",
    "        \n",
    "        i_idx.append((i + k * Np)[clip])\n",
    "        j_idx.append(j[clip])\n",
    "        weights.append(w[clip])\n",
    "        # Compute sensor indices and weights above the projected points\n",
    "        w = proj - i\n",
    "        i_idx.append((i + 1 + k * Np)[clip])\n",
    "        j_idx.append(j[clip])\n",
    "        weights.append(w[clip])\n",
    "        \n",
    "    # Construct matrix X\n",
    "    i = np.concatenate(i_idx).astype(np.int32)\n",
    "    j = np.concatenate(j_idx).astype(np.int32)\n",
    "    w = np.concatenate(weights)\n",
    "    X = coo_matrix((w, (i, j)), shape=(D_y, D_beta), dtype=np.float32)\n",
    "    \n",
    "    if lmbda > 0:\n",
    "        reg = np.sqrt(lmbda) * eye(D_beta)\n",
    "        X = vstack([X, reg])\n",
    "        \n",
    "    return X"
   ]
  },
  {
   "cell_type": "code",
   "execution_count": 9,
   "id": "further-discussion",
   "metadata": {},
   "outputs": [],
   "source": [
    "# Reconstruct tomogram from 64 angles and variations of lambda\n",
    "M = 195\n",
    "Np = 275\n",
    "y = np.load('hs_tomography/y_195.npy')\n",
    "alphas = np.load('hs_tomography/alphas_195.npy')\n",
    "\n",
    "# Reconstruct for 64 angles\n",
    "idx = [int(np.ceil(len(alphas) * p/64)) for p in range(64)]\n",
    "alphas_sub = alphas[idx]\n",
    "y_sub = []\n",
    "for j in idx:\n",
    "    y_sub.extend(y[j * Np : (j + 1) * Np])\n",
    "y_sub = np.asarray(y_sub)\n",
    "\n",
    "# Extend y vector with zeros\n",
    "y_sub_lmbda = np.hstack((y_sub, np.zeros(M ** 2)))\n",
    "\n",
    "lmbda = list(10 ** i for i in range(0, 6))"
   ]
  },
  {
   "cell_type": "code",
   "execution_count": null,
   "id": "insured-pakistan",
   "metadata": {},
   "outputs": [],
   "source": [
    "fig, ax = plt.subplots(3, 2, fisize=(16, 16))\n",
    "for i in range(len(lmbda)):\n",
    "    X = construct_X(M, alphas_sub, Np, lmbda=lmbda[i]).tocsc()\n",
    "    theta = lsqr(X, y_sub, if lmbda == 0 else y_sub_lmbda, atol=1e-5, btol=1e-5)[0].reshape(195, 195)\n",
    "    "
   ]
  }
 ],
 "metadata": {
  "kernelspec": {
   "display_name": "Python 3",
   "language": "python",
   "name": "python3"
  },
  "language_info": {
   "codemirror_mode": {
    "name": "ipython",
    "version": 3
   },
   "file_extension": ".py",
   "mimetype": "text/x-python",
   "name": "python",
   "nbconvert_exporter": "python",
   "pygments_lexer": "ipython3",
   "version": "3.8.2"
  }
 },
 "nbformat": 4,
 "nbformat_minor": 5
}
