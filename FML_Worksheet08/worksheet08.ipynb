{
 "cells": [
  {
   "cell_type": "markdown",
   "id": "changed-invasion",
   "metadata": {},
   "source": [
    "## Worksheet 08\n",
    "***"
   ]
  },
  {
   "cell_type": "markdown",
   "id": "powered-paradise",
   "metadata": {},
   "source": [
    "### Bias and Variance of Ridge Regression"
   ]
  },
  {
   "cell_type": "markdown",
   "id": "entitled-recording",
   "metadata": {},
   "source": []
  }
 ],
 "metadata": {
  "kernelspec": {
   "display_name": "Python 3",
   "language": "python",
   "name": "python3"
  },
  "language_info": {
   "codemirror_mode": {
    "name": "ipython",
    "version": 3
   },
   "file_extension": ".py",
   "mimetype": "text/x-python",
   "name": "python",
   "nbconvert_exporter": "python",
   "pygments_lexer": "ipython3",
   "version": "3.8.2"
  }
 },
 "nbformat": 4,
 "nbformat_minor": 5
}
