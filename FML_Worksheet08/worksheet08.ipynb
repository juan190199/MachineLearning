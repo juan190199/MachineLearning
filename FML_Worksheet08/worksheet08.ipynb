{
 "cells": [
  {
   "cell_type": "markdown",
   "id": "hazardous-device",
   "metadata": {},
   "source": [
    "## Worksheet 08\n",
    "***"
   ]
  },
  {
   "cell_type": "code",
   "execution_count": 3,
   "id": "intense-digit",
   "metadata": {},
   "outputs": [],
   "source": [
    "from sklearn.datasets import load_digits \n",
    "from sklearn.model_selection import train_test_split\n",
    "\n",
    "import numpy as np\n",
    "from numpy.linalg import lstsq\n",
    "from scipy.sparse.linalg import lsqr\n",
    "from scipy.sparse import dok_matrix, coo_matrix, vstack, eye\n",
    "from scipy.ndimage.filters import gaussian_filter\n",
    "from sklearn.utils import shuffle\n",
    "\n",
    "%matplotlib inline\n",
    "import matplotlib.pyplot as plt\n",
    "\n",
    "import pandas as pd\n",
    "pd.options.display.float_format = '{:,.2f}'.format\n",
    "def fade_zeros(s):\n",
    "    return ['color: lightgray' if v else 'color: black' for v in (0 == s)]\n",
    "from IPython.display import display\n",
    "\n",
    "%load_ext autoreload\n",
    "%autoreload 2"
   ]
  },
  {
   "cell_type": "markdown",
   "id": "early-vulnerability",
   "metadata": {},
   "source": [
    "### Denoising a CT image"
   ]
  },
  {
   "cell_type": "code",
   "execution_count": null,
   "id": "sudden-cooper",
   "metadata": {},
   "outputs": [],
   "source": [
    "def construct_X(M, alphas, Np=None, tau=0):\n",
    "    \"\"\"\n",
    "    Construct design matrix X\n",
    "    : param M: int \n",
    "        Tomogram is an array-like of shape (M, M)\n",
    "    \n",
    "    : param alphas: Array-like of shape (n_alphas, )\n",
    "        List of measurement angles in degrees\n",
    "        \n",
    "    : param Np: Default=None\n",
    "        Optional sensor resolution\n",
    "    \"\"\"\n",
    "    # Define sensor size\n",
    "    if Np is None:\n",
    "        Np = int(np.ceil(np.sqrt(2) * M))\n",
    "        if Np % 2 == 0:\n",
    "            Np += 1\n",
    "    # Number of angles\n",
    "    No = len(alphas)\n",
    "    # Define design matrix X\n",
    "    D_beta = M * M\n",
    "    D_y = No * Np\n",
    "    \n",
    "    # Flattened output coordinates\n",
    "    j = np.mgrid[0 : D_beta].astype(np.int32)\n",
    "    # Coordinate matrix for the output pixels\n",
    "    C = (M - 1) / 2  # Center matrix\n",
    "    grid = np.mgrid[-C : M - C, -C : M - C].swapaxes(1, 2).reshape(2, D_beta)\n",
    "    \n",
    "    # Collect indices and corresponding values for all iterations\n",
    "    i_idx = []\n",
    "    j_idx = []\n",
    "    weights = []\n",
    "\n",
    "    for k, alpha in enumerate(alphas):\n",
    "        # Covert angle and projection vector    \n",
    "        alph_rad = np.radians(alpha)\n",
    "        proj_vec = np.array([np.cos(alph_rad), -np.sin(alph_rad)])\n",
    "        # Project coordinates and adjust coordinates to sensor\n",
    "        proj = np.dot(proj_vec, grid) + Np // 2\n",
    "        # Compute sensor indices and weights below the projected points\n",
    "        i = np.floor(proj)\n",
    "        w = (i + 1) - proj\n",
    "        # Rays falling outside the sensor are not counted\n",
    "        clip = np.logical_and(0 <= i, i < Np-1)\n",
    "        \n",
    "        i_idx.append((i + k * Np)[clip])\n",
    "        j_idx.append(j[clip])\n",
    "        weights.append(w[clip])\n",
    "        # Compute sensor indices and weights above the projected points\n",
    "        w = proj - i\n",
    "        i_idx.append((i + 1 + k * Np)[clip])\n",
    "        j_idx.append(j[clip])\n",
    "        weights.append(w[clip])\n",
    "        \n",
    "    # Construct matrix X\n",
    "    i = np.concatenate(i_idx).astype(np.int32)\n",
    "    j = np.concatenate(j_idx).astype(np.int32)\n",
    "    w = np.concatenate(weights)\n",
    "    X = coo_matrix((w, (i, j)), shape=(D_y, D_beta), dtype=np.float32)\n",
    "    \n",
    "    if tau > 0:\n",
    "        reg = np.sqrt(tau) * eye(D_beta)\n",
    "        X = vstack([X, reg])\n",
    "        \n",
    "    return X"
   ]
  }
 ],
 "metadata": {
  "kernelspec": {
   "display_name": "Python 3",
   "language": "python",
   "name": "python3"
  },
  "language_info": {
   "codemirror_mode": {
    "name": "ipython",
    "version": 3
   },
   "file_extension": ".py",
   "mimetype": "text/x-python",
   "name": "python",
   "nbconvert_exporter": "python",
   "pygments_lexer": "ipython3",
   "version": "3.8.2"
  }
 },
 "nbformat": 4,
 "nbformat_minor": 5
}
